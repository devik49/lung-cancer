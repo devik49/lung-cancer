{
 "cells": [
  {
   "cell_type": "markdown",
   "id": "4f949d1a",
   "metadata": {},
   "source": [
    "#### There are total 309 instances with 16 independent predictor variable and one target variable Lung_cancer."
   ]
  },
  {
   "cell_type": "code",
   "execution_count": 1,
   "id": "39f6d6fe",
   "metadata": {},
   "outputs": [
    {
     "name": "stdout",
     "output_type": "stream",
     "text": [
      "Requirement already satisfied: imblearn in c:\\users\\hp\\anaconda3\\lib\\site-packages (0.0)\n",
      "Requirement already satisfied: imbalanced-learn in c:\\users\\hp\\anaconda3\\lib\\site-packages (from imblearn) (0.9.1)\n",
      "Requirement already satisfied: numpy>=1.17.3 in c:\\users\\hp\\anaconda3\\lib\\site-packages (from imbalanced-learn->imblearn) (1.21.5)\n",
      "Requirement already satisfied: threadpoolctl>=2.0.0 in c:\\users\\hp\\anaconda3\\lib\\site-packages (from imbalanced-learn->imblearn) (2.2.0)\n",
      "Requirement already satisfied: scikit-learn>=1.1.0 in c:\\users\\hp\\anaconda3\\lib\\site-packages (from imbalanced-learn->imblearn) (1.1.2)\n",
      "Requirement already satisfied: scipy>=1.3.2 in c:\\users\\hp\\anaconda3\\lib\\site-packages (from imbalanced-learn->imblearn) (1.9.1)\n",
      "Requirement already satisfied: joblib>=1.0.0 in c:\\users\\hp\\anaconda3\\lib\\site-packages (from imbalanced-learn->imblearn) (1.1.0)\n",
      "Note: you may need to restart the kernel to use updated packages.\n"
     ]
    }
   ],
   "source": [
    "pip install imblearn"
   ]
  },
  {
   "cell_type": "code",
   "execution_count": 1,
   "id": "84488afa",
   "metadata": {},
   "outputs": [],
   "source": [
    "import pandas as pd\n",
    "import numpy as np\n",
    "import seaborn as sns\n",
    "import os\n",
    "import matplotlib.pyplot as plt\n",
    "from pylab import rcParams\n",
    "rcParams['figure.figsize'] = (15,6)\n",
    "from scipy.stats import skew\n",
    "import pylab as p\n",
    "import statsmodels.api as sm\n",
    "from statsmodels.stats.outliers_influence import variance_inflation_factor\n",
    "import sklearn\n",
    "from sklearn.preprocessing import LabelEncoder\n",
    "from numpy import NaN\n",
    "%matplotlib inline\n",
    "import random\n",
    "from imblearn.over_sampling import SMOTE\n",
    "import warnings\n",
    "warnings.filterwarnings('ignore')"
   ]
  },
  {
   "cell_type": "code",
   "execution_count": 2,
   "id": "93687358",
   "metadata": {},
   "outputs": [
    {
     "data": {
      "text/html": [
       "<div>\n",
       "<style scoped>\n",
       "    .dataframe tbody tr th:only-of-type {\n",
       "        vertical-align: middle;\n",
       "    }\n",
       "\n",
       "    .dataframe tbody tr th {\n",
       "        vertical-align: top;\n",
       "    }\n",
       "\n",
       "    .dataframe thead th {\n",
       "        text-align: right;\n",
       "    }\n",
       "</style>\n",
       "<table border=\"1\" class=\"dataframe\">\n",
       "  <thead>\n",
       "    <tr style=\"text-align: right;\">\n",
       "      <th></th>\n",
       "      <th>GENDER</th>\n",
       "      <th>AGE</th>\n",
       "      <th>SMOKING</th>\n",
       "      <th>YELLOW_FINGERS</th>\n",
       "      <th>ANXIETY</th>\n",
       "      <th>PEER_PRESSURE</th>\n",
       "      <th>CHRONIC DISEASE</th>\n",
       "      <th>FATIGUE</th>\n",
       "      <th>ALLERGY</th>\n",
       "      <th>WHEEZING</th>\n",
       "      <th>ALCOHOL CONSUMING</th>\n",
       "      <th>COUGHING</th>\n",
       "      <th>SHORTNESS OF BREATH</th>\n",
       "      <th>SWALLOWING DIFFICULTY</th>\n",
       "      <th>CHEST PAIN</th>\n",
       "      <th>LUNG_CANCER</th>\n",
       "    </tr>\n",
       "  </thead>\n",
       "  <tbody>\n",
       "    <tr>\n",
       "      <th>0</th>\n",
       "      <td>M</td>\n",
       "      <td>69</td>\n",
       "      <td>1</td>\n",
       "      <td>2</td>\n",
       "      <td>2</td>\n",
       "      <td>1</td>\n",
       "      <td>1</td>\n",
       "      <td>2</td>\n",
       "      <td>1</td>\n",
       "      <td>2</td>\n",
       "      <td>2</td>\n",
       "      <td>2</td>\n",
       "      <td>2</td>\n",
       "      <td>2</td>\n",
       "      <td>2</td>\n",
       "      <td>YES</td>\n",
       "    </tr>\n",
       "    <tr>\n",
       "      <th>1</th>\n",
       "      <td>M</td>\n",
       "      <td>74</td>\n",
       "      <td>2</td>\n",
       "      <td>1</td>\n",
       "      <td>1</td>\n",
       "      <td>1</td>\n",
       "      <td>2</td>\n",
       "      <td>2</td>\n",
       "      <td>2</td>\n",
       "      <td>1</td>\n",
       "      <td>1</td>\n",
       "      <td>1</td>\n",
       "      <td>2</td>\n",
       "      <td>2</td>\n",
       "      <td>2</td>\n",
       "      <td>YES</td>\n",
       "    </tr>\n",
       "    <tr>\n",
       "      <th>2</th>\n",
       "      <td>F</td>\n",
       "      <td>59</td>\n",
       "      <td>1</td>\n",
       "      <td>1</td>\n",
       "      <td>1</td>\n",
       "      <td>2</td>\n",
       "      <td>1</td>\n",
       "      <td>2</td>\n",
       "      <td>1</td>\n",
       "      <td>2</td>\n",
       "      <td>1</td>\n",
       "      <td>2</td>\n",
       "      <td>2</td>\n",
       "      <td>1</td>\n",
       "      <td>2</td>\n",
       "      <td>NO</td>\n",
       "    </tr>\n",
       "    <tr>\n",
       "      <th>3</th>\n",
       "      <td>M</td>\n",
       "      <td>63</td>\n",
       "      <td>2</td>\n",
       "      <td>2</td>\n",
       "      <td>2</td>\n",
       "      <td>1</td>\n",
       "      <td>1</td>\n",
       "      <td>1</td>\n",
       "      <td>1</td>\n",
       "      <td>1</td>\n",
       "      <td>2</td>\n",
       "      <td>1</td>\n",
       "      <td>1</td>\n",
       "      <td>2</td>\n",
       "      <td>2</td>\n",
       "      <td>NO</td>\n",
       "    </tr>\n",
       "    <tr>\n",
       "      <th>4</th>\n",
       "      <td>F</td>\n",
       "      <td>63</td>\n",
       "      <td>1</td>\n",
       "      <td>2</td>\n",
       "      <td>1</td>\n",
       "      <td>1</td>\n",
       "      <td>1</td>\n",
       "      <td>1</td>\n",
       "      <td>1</td>\n",
       "      <td>2</td>\n",
       "      <td>1</td>\n",
       "      <td>2</td>\n",
       "      <td>2</td>\n",
       "      <td>1</td>\n",
       "      <td>1</td>\n",
       "      <td>NO</td>\n",
       "    </tr>\n",
       "    <tr>\n",
       "      <th>...</th>\n",
       "      <td>...</td>\n",
       "      <td>...</td>\n",
       "      <td>...</td>\n",
       "      <td>...</td>\n",
       "      <td>...</td>\n",
       "      <td>...</td>\n",
       "      <td>...</td>\n",
       "      <td>...</td>\n",
       "      <td>...</td>\n",
       "      <td>...</td>\n",
       "      <td>...</td>\n",
       "      <td>...</td>\n",
       "      <td>...</td>\n",
       "      <td>...</td>\n",
       "      <td>...</td>\n",
       "      <td>...</td>\n",
       "    </tr>\n",
       "    <tr>\n",
       "      <th>304</th>\n",
       "      <td>F</td>\n",
       "      <td>56</td>\n",
       "      <td>1</td>\n",
       "      <td>1</td>\n",
       "      <td>1</td>\n",
       "      <td>2</td>\n",
       "      <td>2</td>\n",
       "      <td>2</td>\n",
       "      <td>1</td>\n",
       "      <td>1</td>\n",
       "      <td>2</td>\n",
       "      <td>2</td>\n",
       "      <td>2</td>\n",
       "      <td>2</td>\n",
       "      <td>1</td>\n",
       "      <td>YES</td>\n",
       "    </tr>\n",
       "    <tr>\n",
       "      <th>305</th>\n",
       "      <td>M</td>\n",
       "      <td>70</td>\n",
       "      <td>2</td>\n",
       "      <td>1</td>\n",
       "      <td>1</td>\n",
       "      <td>1</td>\n",
       "      <td>1</td>\n",
       "      <td>2</td>\n",
       "      <td>2</td>\n",
       "      <td>2</td>\n",
       "      <td>2</td>\n",
       "      <td>2</td>\n",
       "      <td>2</td>\n",
       "      <td>1</td>\n",
       "      <td>2</td>\n",
       "      <td>YES</td>\n",
       "    </tr>\n",
       "    <tr>\n",
       "      <th>306</th>\n",
       "      <td>M</td>\n",
       "      <td>58</td>\n",
       "      <td>2</td>\n",
       "      <td>1</td>\n",
       "      <td>1</td>\n",
       "      <td>1</td>\n",
       "      <td>1</td>\n",
       "      <td>1</td>\n",
       "      <td>2</td>\n",
       "      <td>2</td>\n",
       "      <td>2</td>\n",
       "      <td>2</td>\n",
       "      <td>1</td>\n",
       "      <td>1</td>\n",
       "      <td>2</td>\n",
       "      <td>YES</td>\n",
       "    </tr>\n",
       "    <tr>\n",
       "      <th>307</th>\n",
       "      <td>M</td>\n",
       "      <td>67</td>\n",
       "      <td>2</td>\n",
       "      <td>1</td>\n",
       "      <td>2</td>\n",
       "      <td>1</td>\n",
       "      <td>1</td>\n",
       "      <td>2</td>\n",
       "      <td>2</td>\n",
       "      <td>1</td>\n",
       "      <td>2</td>\n",
       "      <td>2</td>\n",
       "      <td>2</td>\n",
       "      <td>1</td>\n",
       "      <td>2</td>\n",
       "      <td>YES</td>\n",
       "    </tr>\n",
       "    <tr>\n",
       "      <th>308</th>\n",
       "      <td>M</td>\n",
       "      <td>62</td>\n",
       "      <td>1</td>\n",
       "      <td>1</td>\n",
       "      <td>1</td>\n",
       "      <td>2</td>\n",
       "      <td>1</td>\n",
       "      <td>2</td>\n",
       "      <td>2</td>\n",
       "      <td>2</td>\n",
       "      <td>2</td>\n",
       "      <td>1</td>\n",
       "      <td>1</td>\n",
       "      <td>2</td>\n",
       "      <td>1</td>\n",
       "      <td>YES</td>\n",
       "    </tr>\n",
       "  </tbody>\n",
       "</table>\n",
       "<p>309 rows × 16 columns</p>\n",
       "</div>"
      ],
      "text/plain": [
       "    GENDER  AGE  SMOKING  YELLOW_FINGERS  ANXIETY  PEER_PRESSURE  \\\n",
       "0        M   69        1               2        2              1   \n",
       "1        M   74        2               1        1              1   \n",
       "2        F   59        1               1        1              2   \n",
       "3        M   63        2               2        2              1   \n",
       "4        F   63        1               2        1              1   \n",
       "..     ...  ...      ...             ...      ...            ...   \n",
       "304      F   56        1               1        1              2   \n",
       "305      M   70        2               1        1              1   \n",
       "306      M   58        2               1        1              1   \n",
       "307      M   67        2               1        2              1   \n",
       "308      M   62        1               1        1              2   \n",
       "\n",
       "     CHRONIC DISEASE  FATIGUE   ALLERGY   WHEEZING  ALCOHOL CONSUMING  \\\n",
       "0                  1         2         1         2                  2   \n",
       "1                  2         2         2         1                  1   \n",
       "2                  1         2         1         2                  1   \n",
       "3                  1         1         1         1                  2   \n",
       "4                  1         1         1         2                  1   \n",
       "..               ...       ...       ...       ...                ...   \n",
       "304                2         2         1         1                  2   \n",
       "305                1         2         2         2                  2   \n",
       "306                1         1         2         2                  2   \n",
       "307                1         2         2         1                  2   \n",
       "308                1         2         2         2                  2   \n",
       "\n",
       "     COUGHING  SHORTNESS OF BREATH  SWALLOWING DIFFICULTY  CHEST PAIN  \\\n",
       "0           2                    2                      2           2   \n",
       "1           1                    2                      2           2   \n",
       "2           2                    2                      1           2   \n",
       "3           1                    1                      2           2   \n",
       "4           2                    2                      1           1   \n",
       "..        ...                  ...                    ...         ...   \n",
       "304         2                    2                      2           1   \n",
       "305         2                    2                      1           2   \n",
       "306         2                    1                      1           2   \n",
       "307         2                    2                      1           2   \n",
       "308         1                    1                      2           1   \n",
       "\n",
       "    LUNG_CANCER  \n",
       "0           YES  \n",
       "1           YES  \n",
       "2            NO  \n",
       "3            NO  \n",
       "4            NO  \n",
       "..          ...  \n",
       "304         YES  \n",
       "305         YES  \n",
       "306         YES  \n",
       "307         YES  \n",
       "308         YES  \n",
       "\n",
       "[309 rows x 16 columns]"
      ]
     },
     "execution_count": 2,
     "metadata": {},
     "output_type": "execute_result"
    }
   ],
   "source": [
    "data = pd.read_csv(\"survey lung cancer.csv\")\n",
    "data"
   ]
  },
  {
   "cell_type": "code",
   "execution_count": 3,
   "id": "3f5b6014",
   "metadata": {},
   "outputs": [
    {
     "data": {
      "text/plain": [
       "(309, 16)"
      ]
     },
     "execution_count": 3,
     "metadata": {},
     "output_type": "execute_result"
    }
   ],
   "source": [
    "data.shape #dimension of the data(rows,columns)"
   ]
  },
  {
   "cell_type": "code",
   "execution_count": 4,
   "id": "79bdd1ed",
   "metadata": {},
   "outputs": [
    {
     "data": {
      "text/plain": [
       "<bound method DataFrame.info of     GENDER  AGE  SMOKING  YELLOW_FINGERS  ANXIETY  PEER_PRESSURE  \\\n",
       "0        M   69        1               2        2              1   \n",
       "1        M   74        2               1        1              1   \n",
       "2        F   59        1               1        1              2   \n",
       "3        M   63        2               2        2              1   \n",
       "4        F   63        1               2        1              1   \n",
       "..     ...  ...      ...             ...      ...            ...   \n",
       "304      F   56        1               1        1              2   \n",
       "305      M   70        2               1        1              1   \n",
       "306      M   58        2               1        1              1   \n",
       "307      M   67        2               1        2              1   \n",
       "308      M   62        1               1        1              2   \n",
       "\n",
       "     CHRONIC DISEASE  FATIGUE   ALLERGY   WHEEZING  ALCOHOL CONSUMING  \\\n",
       "0                  1         2         1         2                  2   \n",
       "1                  2         2         2         1                  1   \n",
       "2                  1         2         1         2                  1   \n",
       "3                  1         1         1         1                  2   \n",
       "4                  1         1         1         2                  1   \n",
       "..               ...       ...       ...       ...                ...   \n",
       "304                2         2         1         1                  2   \n",
       "305                1         2         2         2                  2   \n",
       "306                1         1         2         2                  2   \n",
       "307                1         2         2         1                  2   \n",
       "308                1         2         2         2                  2   \n",
       "\n",
       "     COUGHING  SHORTNESS OF BREATH  SWALLOWING DIFFICULTY  CHEST PAIN  \\\n",
       "0           2                    2                      2           2   \n",
       "1           1                    2                      2           2   \n",
       "2           2                    2                      1           2   \n",
       "3           1                    1                      2           2   \n",
       "4           2                    2                      1           1   \n",
       "..        ...                  ...                    ...         ...   \n",
       "304         2                    2                      2           1   \n",
       "305         2                    2                      1           2   \n",
       "306         2                    1                      1           2   \n",
       "307         2                    2                      1           2   \n",
       "308         1                    1                      2           1   \n",
       "\n",
       "    LUNG_CANCER  \n",
       "0           YES  \n",
       "1           YES  \n",
       "2            NO  \n",
       "3            NO  \n",
       "4            NO  \n",
       "..          ...  \n",
       "304         YES  \n",
       "305         YES  \n",
       "306         YES  \n",
       "307         YES  \n",
       "308         YES  \n",
       "\n",
       "[309 rows x 16 columns]>"
      ]
     },
     "execution_count": 4,
     "metadata": {},
     "output_type": "execute_result"
    }
   ],
   "source": [
    "data.info"
   ]
  },
  {
   "cell_type": "code",
   "execution_count": 5,
   "id": "1f231fa6",
   "metadata": {},
   "outputs": [
    {
     "data": {
      "text/plain": [
       "GENDER                    2\n",
       "AGE                      39\n",
       "SMOKING                   2\n",
       "YELLOW_FINGERS            2\n",
       "ANXIETY                   2\n",
       "PEER_PRESSURE             2\n",
       "CHRONIC DISEASE           2\n",
       "FATIGUE                   2\n",
       "ALLERGY                   2\n",
       "WHEEZING                  2\n",
       "ALCOHOL CONSUMING         2\n",
       "COUGHING                  2\n",
       "SHORTNESS OF BREATH       2\n",
       "SWALLOWING DIFFICULTY     2\n",
       "CHEST PAIN                2\n",
       "LUNG_CANCER               2\n",
       "dtype: int64"
      ]
     },
     "execution_count": 5,
     "metadata": {},
     "output_type": "execute_result"
    }
   ],
   "source": [
    "data.nunique()"
   ]
  },
  {
   "cell_type": "markdown",
   "id": "82ef1ce4",
   "metadata": {},
   "source": [
    "## ATTRIBUTE INFORMATION"
   ]
  },
  {
   "cell_type": "code",
   "execution_count": 6,
   "id": "95b7340a",
   "metadata": {},
   "outputs": [
    {
     "data": {
      "text/plain": [
       "Index(['GENDER', 'AGE', 'SMOKING', 'YELLOW_FINGERS', 'ANXIETY',\n",
       "       'PEER_PRESSURE', 'CHRONIC DISEASE', 'FATIGUE ', 'ALLERGY ', 'WHEEZING',\n",
       "       'ALCOHOL CONSUMING', 'COUGHING', 'SHORTNESS OF BREATH',\n",
       "       'SWALLOWING DIFFICULTY', 'CHEST PAIN', 'LUNG_CANCER'],\n",
       "      dtype='object')"
      ]
     },
     "execution_count": 6,
     "metadata": {},
     "output_type": "execute_result"
    }
   ],
   "source": [
    "data.columns"
   ]
  },
  {
   "cell_type": "code",
   "execution_count": 7,
   "id": "7842ddcc",
   "metadata": {},
   "outputs": [
    {
     "name": "stdout",
     "output_type": "stream",
     "text": [
      "GENDER \n",
      " ['M' 'F']\n",
      "AGE \n",
      " [69 74 59 63 75 52 51 68 53 61 72 60 58 48 57 44 64 21 65 55 62 56 67 77\n",
      " 70 54 49 73 47 71 66 76 78 81 79 38 39 87 46]\n",
      "SMOKING \n",
      " [1 2]\n",
      "YELLOW_FINGERS \n",
      " [2 1]\n",
      "ANXIETY \n",
      " [2 1]\n",
      "PEER_PRESSURE \n",
      " [1 2]\n",
      "CHRONIC DISEASE \n",
      " [1 2]\n",
      "FATIGUE  \n",
      " [2 1]\n",
      "ALLERGY  \n",
      " [1 2]\n",
      "WHEEZING \n",
      " [2 1]\n",
      "ALCOHOL CONSUMING \n",
      " [2 1]\n",
      "COUGHING \n",
      " [2 1]\n",
      "SHORTNESS OF BREATH \n",
      " [2 1]\n",
      "SWALLOWING DIFFICULTY \n",
      " [2 1]\n",
      "CHEST PAIN \n",
      " [2 1]\n",
      "LUNG_CANCER \n",
      " ['YES' 'NO']\n"
     ]
    }
   ],
   "source": [
    "att=data[['GENDER', 'AGE', 'SMOKING', 'YELLOW_FINGERS', 'ANXIETY',\n",
    "       'PEER_PRESSURE', 'CHRONIC DISEASE', 'FATIGUE ', 'ALLERGY ', 'WHEEZING',\n",
    "       'ALCOHOL CONSUMING', 'COUGHING', 'SHORTNESS OF BREATH',\n",
    "       'SWALLOWING DIFFICULTY', 'CHEST PAIN', 'LUNG_CANCER']]\n",
    "for i in att:\n",
    "    print(i,\"\\n\",att[i].unique())"
   ]
  },
  {
   "cell_type": "markdown",
   "id": "a98ea3ca",
   "metadata": {},
   "source": [
    "## Checking For Missing value"
   ]
  },
  {
   "cell_type": "code",
   "execution_count": 8,
   "id": "9fc768d0",
   "metadata": {},
   "outputs": [
    {
     "data": {
      "text/plain": [
       "GENDER                   0\n",
       "AGE                      0\n",
       "SMOKING                  0\n",
       "YELLOW_FINGERS           0\n",
       "ANXIETY                  0\n",
       "PEER_PRESSURE            0\n",
       "CHRONIC DISEASE          0\n",
       "FATIGUE                  0\n",
       "ALLERGY                  0\n",
       "WHEEZING                 0\n",
       "ALCOHOL CONSUMING        0\n",
       "COUGHING                 0\n",
       "SHORTNESS OF BREATH      0\n",
       "SWALLOWING DIFFICULTY    0\n",
       "CHEST PAIN               0\n",
       "LUNG_CANCER              0\n",
       "dtype: int64"
      ]
     },
     "execution_count": 8,
     "metadata": {},
     "output_type": "execute_result"
    }
   ],
   "source": [
    "data.isnull().sum()"
   ]
  },
  {
   "cell_type": "markdown",
   "id": "034c8fff",
   "metadata": {},
   "source": [
    "#### Observation: we observe that there is no missing value in this dataset."
   ]
  },
  {
   "cell_type": "markdown",
   "id": "dee848cc",
   "metadata": {},
   "source": [
    "## Dublicate Values"
   ]
  },
  {
   "cell_type": "code",
   "execution_count": 9,
   "id": "8a0b28e7",
   "metadata": {},
   "outputs": [
    {
     "name": "stdout",
     "output_type": "stream",
     "text": [
      "33\n"
     ]
    }
   ],
   "source": [
    "dup=data.duplicated().sum()\n",
    "print(dup)"
   ]
  },
  {
   "cell_type": "markdown",
   "id": "da013ebd",
   "metadata": {},
   "source": [
    "#### Observation:We observe that there are 33 dublicate values."
   ]
  },
  {
   "cell_type": "code",
   "execution_count": 10,
   "id": "1a61aacb",
   "metadata": {},
   "outputs": [
    {
     "ename": "SyntaxError",
     "evalue": "EOL while scanning string literal (1630602364.py, line 5)",
     "output_type": "error",
     "traceback": [
      "\u001b[1;36m  Input \u001b[1;32mIn [10]\u001b[1;36m\u001b[0m\n\u001b[1;33m    fontdict={'name':'Algerian','size':30,'color':green'})\u001b[0m\n\u001b[1;37m                                                          ^\u001b[0m\n\u001b[1;31mSyntaxError\u001b[0m\u001b[1;31m:\u001b[0m EOL while scanning string literal\n"
     ]
    }
   ],
   "source": [
    "x=data['LUNG_CANCER'].value_counts()\n",
    "c1=['grey','blue']\n",
    "x.plot.pie(autopct='%1.3f%%',colors=c1,startangle=90,radius=0.5)##write the numeric value \n",
    "plt.title(\"LUNG_CANCER\",\n",
    "          fontdict={'name':'Algerian','size':30,'color':green'})\n",
    "plt.show()"
   ]
  },
  {
   "cell_type": "markdown",
   "id": "053071e3",
   "metadata": {},
   "source": [
    "#### here we observe that 87.379% of people have risk on lung cancer based on the given features and 12.621 of people have no risk on lung cancer"
   ]
  },
  {
   "cell_type": "code",
   "execution_count": null,
   "id": "c803158b",
   "metadata": {},
   "outputs": [],
   "source": [
    "sns.barplot(data['LUNG_CANCER'],data['AGE'],palette=\"Paired\")\n",
    "plt.show()"
   ]
  },
  {
   "cell_type": "code",
   "execution_count": null,
   "id": "c5db2c0b",
   "metadata": {},
   "outputs": [],
   "source": []
  },
  {
   "cell_type": "markdown",
   "id": "173a8dc2",
   "metadata": {},
   "source": [
    "## Checking For Outliers"
   ]
  },
  {
   "cell_type": "code",
   "execution_count": null,
   "id": "75839dc1",
   "metadata": {},
   "outputs": [],
   "source": [
    "data.boxplot(grid=False, rot=80, fontsize=9) \n",
    "#boxplot of each varible together"
   ]
  },
  {
   "cell_type": "markdown",
   "id": "8ae8ebb1",
   "metadata": {},
   "source": [
    "#### Observation: We observe that there are outliers in age and no other variables has a outliers."
   ]
  },
  {
   "cell_type": "markdown",
   "id": "7b59a834",
   "metadata": {},
   "source": [
    "## Detect Outlier"
   ]
  },
  {
   "cell_type": "markdown",
   "id": "642fdb62",
   "metadata": {},
   "source": [
    "### Median Imputation"
   ]
  },
  {
   "cell_type": "code",
   "execution_count": null,
   "id": "8ea9bc10",
   "metadata": {},
   "outputs": [],
   "source": [
    "q1=data['AGE'].quantile(0.25)\n",
    "q3=data['AGE'].quantile(0.75)\n",
    "\n",
    "iqr=q3-q1\n",
    "\n",
    "lower_trial=q1-1.5*iqr\n",
    "upper_trial=q3+1.5*iqr\n",
    "\n",
    "print(lower_trial)\n",
    "print(upper_trial)"
   ]
  },
  {
   "cell_type": "code",
   "execution_count": null,
   "id": "ab05eb1d",
   "metadata": {},
   "outputs": [],
   "source": [
    "q1=data['AGE'].quantile(0.25)\n",
    "q3=data['AGE'].quantile(0.75)\n",
    "iqr=q3-q1\n",
    "lower_trial=q1-1.5*iqr\n",
    "upper_trial=q3+1.5*iqr\n",
    "med=np.median(data['AGE'])\n",
    "for i in data['AGE']:\n",
    "    if i>upper_trial or i<lower_trial:\n",
    "        data['AGE']=data['AGE'].replace(i,med)\n",
    "sns.boxplot(data['AGE'])\n",
    "plt.title(\"box plot after median imputation\")\n",
    "plt.show()\n"
   ]
  },
  {
   "cell_type": "markdown",
   "id": "f6ffa2ee",
   "metadata": {},
   "source": [
    "#### Observation: Outliers are treated"
   ]
  },
  {
   "cell_type": "markdown",
   "id": "52a781ac",
   "metadata": {},
   "source": [
    "## Checking For Skewness"
   ]
  },
  {
   "cell_type": "code",
   "execution_count": 12,
   "id": "c5769e07",
   "metadata": {},
   "outputs": [
    {
     "ename": "ValueError",
     "evalue": "could not convert string to float: 'YES'",
     "output_type": "error",
     "traceback": [
      "\u001b[1;31m---------------------------------------------------------------------------\u001b[0m",
      "\u001b[1;31mValueError\u001b[0m                                Traceback (most recent call last)",
      "Input \u001b[1;32mIn [12]\u001b[0m, in \u001b[0;36m<cell line: 3>\u001b[1;34m()\u001b[0m\n\u001b[0;32m      1\u001b[0m y \u001b[38;5;241m=\u001b[39m data[\u001b[38;5;124m\"\u001b[39m\u001b[38;5;124mLUNG_CANCER\u001b[39m\u001b[38;5;124m\"\u001b[39m]\n\u001b[1;32m----> 3\u001b[0m \u001b[43mplt\u001b[49m\u001b[38;5;241;43m.\u001b[39;49m\u001b[43mpie\u001b[49m\u001b[43m(\u001b[49m\u001b[43my\u001b[49m\u001b[43m)\u001b[49m\n\u001b[0;32m      4\u001b[0m plt\u001b[38;5;241m.\u001b[39mshow()\n",
      "File \u001b[1;32m~\\anaconda3\\lib\\site-packages\\matplotlib\\pyplot.py:2744\u001b[0m, in \u001b[0;36mpie\u001b[1;34m(x, explode, labels, colors, autopct, pctdistance, shadow, labeldistance, startangle, radius, counterclock, wedgeprops, textprops, center, frame, rotatelabels, normalize, data)\u001b[0m\n\u001b[0;32m   2737\u001b[0m \u001b[38;5;129m@_copy_docstring_and_deprecators\u001b[39m(Axes\u001b[38;5;241m.\u001b[39mpie)\n\u001b[0;32m   2738\u001b[0m \u001b[38;5;28;01mdef\u001b[39;00m \u001b[38;5;21mpie\u001b[39m(\n\u001b[0;32m   2739\u001b[0m         x, explode\u001b[38;5;241m=\u001b[39m\u001b[38;5;28;01mNone\u001b[39;00m, labels\u001b[38;5;241m=\u001b[39m\u001b[38;5;28;01mNone\u001b[39;00m, colors\u001b[38;5;241m=\u001b[39m\u001b[38;5;28;01mNone\u001b[39;00m, autopct\u001b[38;5;241m=\u001b[39m\u001b[38;5;28;01mNone\u001b[39;00m,\n\u001b[1;32m   (...)\u001b[0m\n\u001b[0;32m   2742\u001b[0m         textprops\u001b[38;5;241m=\u001b[39m\u001b[38;5;28;01mNone\u001b[39;00m, center\u001b[38;5;241m=\u001b[39m(\u001b[38;5;241m0\u001b[39m, \u001b[38;5;241m0\u001b[39m), frame\u001b[38;5;241m=\u001b[39m\u001b[38;5;28;01mFalse\u001b[39;00m,\n\u001b[0;32m   2743\u001b[0m         rotatelabels\u001b[38;5;241m=\u001b[39m\u001b[38;5;28;01mFalse\u001b[39;00m, \u001b[38;5;241m*\u001b[39m, normalize\u001b[38;5;241m=\u001b[39m\u001b[38;5;28;01mTrue\u001b[39;00m, data\u001b[38;5;241m=\u001b[39m\u001b[38;5;28;01mNone\u001b[39;00m):\n\u001b[1;32m-> 2744\u001b[0m     \u001b[38;5;28;01mreturn\u001b[39;00m gca()\u001b[38;5;241m.\u001b[39mpie(\n\u001b[0;32m   2745\u001b[0m         x, explode\u001b[38;5;241m=\u001b[39mexplode, labels\u001b[38;5;241m=\u001b[39mlabels, colors\u001b[38;5;241m=\u001b[39mcolors,\n\u001b[0;32m   2746\u001b[0m         autopct\u001b[38;5;241m=\u001b[39mautopct, pctdistance\u001b[38;5;241m=\u001b[39mpctdistance, shadow\u001b[38;5;241m=\u001b[39mshadow,\n\u001b[0;32m   2747\u001b[0m         labeldistance\u001b[38;5;241m=\u001b[39mlabeldistance, startangle\u001b[38;5;241m=\u001b[39mstartangle,\n\u001b[0;32m   2748\u001b[0m         radius\u001b[38;5;241m=\u001b[39mradius, counterclock\u001b[38;5;241m=\u001b[39mcounterclock,\n\u001b[0;32m   2749\u001b[0m         wedgeprops\u001b[38;5;241m=\u001b[39mwedgeprops, textprops\u001b[38;5;241m=\u001b[39mtextprops, center\u001b[38;5;241m=\u001b[39mcenter,\n\u001b[0;32m   2750\u001b[0m         frame\u001b[38;5;241m=\u001b[39mframe, rotatelabels\u001b[38;5;241m=\u001b[39mrotatelabels, normalize\u001b[38;5;241m=\u001b[39mnormalize,\n\u001b[0;32m   2751\u001b[0m         \u001b[38;5;241m*\u001b[39m\u001b[38;5;241m*\u001b[39m({\u001b[38;5;124m\"\u001b[39m\u001b[38;5;124mdata\u001b[39m\u001b[38;5;124m\"\u001b[39m: data} \u001b[38;5;28;01mif\u001b[39;00m data \u001b[38;5;129;01mis\u001b[39;00m \u001b[38;5;129;01mnot\u001b[39;00m \u001b[38;5;28;01mNone\u001b[39;00m \u001b[38;5;28;01melse\u001b[39;00m {}))\n",
      "File \u001b[1;32m~\\anaconda3\\lib\\site-packages\\matplotlib\\__init__.py:1412\u001b[0m, in \u001b[0;36m_preprocess_data.<locals>.inner\u001b[1;34m(ax, data, *args, **kwargs)\u001b[0m\n\u001b[0;32m   1409\u001b[0m \u001b[38;5;129m@functools\u001b[39m\u001b[38;5;241m.\u001b[39mwraps(func)\n\u001b[0;32m   1410\u001b[0m \u001b[38;5;28;01mdef\u001b[39;00m \u001b[38;5;21minner\u001b[39m(ax, \u001b[38;5;241m*\u001b[39margs, data\u001b[38;5;241m=\u001b[39m\u001b[38;5;28;01mNone\u001b[39;00m, \u001b[38;5;241m*\u001b[39m\u001b[38;5;241m*\u001b[39mkwargs):\n\u001b[0;32m   1411\u001b[0m     \u001b[38;5;28;01mif\u001b[39;00m data \u001b[38;5;129;01mis\u001b[39;00m \u001b[38;5;28;01mNone\u001b[39;00m:\n\u001b[1;32m-> 1412\u001b[0m         \u001b[38;5;28;01mreturn\u001b[39;00m func(ax, \u001b[38;5;241m*\u001b[39m\u001b[38;5;28mmap\u001b[39m(sanitize_sequence, args), \u001b[38;5;241m*\u001b[39m\u001b[38;5;241m*\u001b[39mkwargs)\n\u001b[0;32m   1414\u001b[0m     bound \u001b[38;5;241m=\u001b[39m new_sig\u001b[38;5;241m.\u001b[39mbind(ax, \u001b[38;5;241m*\u001b[39margs, \u001b[38;5;241m*\u001b[39m\u001b[38;5;241m*\u001b[39mkwargs)\n\u001b[0;32m   1415\u001b[0m     auto_label \u001b[38;5;241m=\u001b[39m (bound\u001b[38;5;241m.\u001b[39marguments\u001b[38;5;241m.\u001b[39mget(label_namer)\n\u001b[0;32m   1416\u001b[0m                   \u001b[38;5;129;01mor\u001b[39;00m bound\u001b[38;5;241m.\u001b[39mkwargs\u001b[38;5;241m.\u001b[39mget(label_namer))\n",
      "File \u001b[1;32m~\\anaconda3\\lib\\site-packages\\matplotlib\\axes\\_axes.py:3042\u001b[0m, in \u001b[0;36mAxes.pie\u001b[1;34m(self, x, explode, labels, colors, autopct, pctdistance, shadow, labeldistance, startangle, radius, counterclock, wedgeprops, textprops, center, frame, rotatelabels, normalize)\u001b[0m\n\u001b[0;32m   3039\u001b[0m \u001b[38;5;28mself\u001b[39m\u001b[38;5;241m.\u001b[39mset_aspect(\u001b[38;5;124m'\u001b[39m\u001b[38;5;124mequal\u001b[39m\u001b[38;5;124m'\u001b[39m)\n\u001b[0;32m   3040\u001b[0m \u001b[38;5;66;03m# The use of float32 is \"historical\", but can't be changed without\u001b[39;00m\n\u001b[0;32m   3041\u001b[0m \u001b[38;5;66;03m# regenerating the test baselines.\u001b[39;00m\n\u001b[1;32m-> 3042\u001b[0m x \u001b[38;5;241m=\u001b[39m \u001b[43mnp\u001b[49m\u001b[38;5;241;43m.\u001b[39;49m\u001b[43masarray\u001b[49m\u001b[43m(\u001b[49m\u001b[43mx\u001b[49m\u001b[43m,\u001b[49m\u001b[43m \u001b[49m\u001b[43mnp\u001b[49m\u001b[38;5;241;43m.\u001b[39;49m\u001b[43mfloat32\u001b[49m\u001b[43m)\u001b[49m\n\u001b[0;32m   3043\u001b[0m \u001b[38;5;28;01mif\u001b[39;00m x\u001b[38;5;241m.\u001b[39mndim \u001b[38;5;241m>\u001b[39m \u001b[38;5;241m1\u001b[39m:\n\u001b[0;32m   3044\u001b[0m     \u001b[38;5;28;01mraise\u001b[39;00m \u001b[38;5;167;01mValueError\u001b[39;00m(\u001b[38;5;124m\"\u001b[39m\u001b[38;5;124mx must be 1D\u001b[39m\u001b[38;5;124m\"\u001b[39m)\n",
      "File \u001b[1;32m~\\anaconda3\\lib\\site-packages\\pandas\\core\\series.py:872\u001b[0m, in \u001b[0;36mSeries.__array__\u001b[1;34m(self, dtype)\u001b[0m\n\u001b[0;32m    825\u001b[0m \u001b[38;5;28;01mdef\u001b[39;00m \u001b[38;5;21m__array__\u001b[39m(\u001b[38;5;28mself\u001b[39m, dtype: npt\u001b[38;5;241m.\u001b[39mDTypeLike \u001b[38;5;241m|\u001b[39m \u001b[38;5;28;01mNone\u001b[39;00m \u001b[38;5;241m=\u001b[39m \u001b[38;5;28;01mNone\u001b[39;00m) \u001b[38;5;241m-\u001b[39m\u001b[38;5;241m>\u001b[39m np\u001b[38;5;241m.\u001b[39mndarray:\n\u001b[0;32m    826\u001b[0m     \u001b[38;5;124;03m\"\"\"\u001b[39;00m\n\u001b[0;32m    827\u001b[0m \u001b[38;5;124;03m    Return the values as a NumPy array.\u001b[39;00m\n\u001b[0;32m    828\u001b[0m \n\u001b[1;32m   (...)\u001b[0m\n\u001b[0;32m    870\u001b[0m \u001b[38;5;124;03m          dtype='datetime64[ns]')\u001b[39;00m\n\u001b[0;32m    871\u001b[0m \u001b[38;5;124;03m    \"\"\"\u001b[39;00m\n\u001b[1;32m--> 872\u001b[0m     \u001b[38;5;28;01mreturn\u001b[39;00m \u001b[43mnp\u001b[49m\u001b[38;5;241;43m.\u001b[39;49m\u001b[43masarray\u001b[49m\u001b[43m(\u001b[49m\u001b[38;5;28;43mself\u001b[39;49m\u001b[38;5;241;43m.\u001b[39;49m\u001b[43m_values\u001b[49m\u001b[43m,\u001b[49m\u001b[43m \u001b[49m\u001b[43mdtype\u001b[49m\u001b[43m)\u001b[49m\n",
      "\u001b[1;31mValueError\u001b[0m: could not convert string to float: 'YES'"
     ]
    },
    {
     "data": {
      "image/png": "[encoded data removed]",
      "text/plain": [
       "<Figure size 432x288 with 1 Axes>"
      ]
     },
     "metadata": {
      "needs_background": "light"
     },
     "output_type": "display_data"
    }
   ],
   "source": [
    "y = data[\"LUNG_CANCER\"]\n",
    "\n",
    "plt.pie(y)\n",
    "plt.show() "
   ]
  },
  {
   "cell_type": "code",
   "execution_count": null,
   "id": "03ea3a50",
   "metadata": {},
   "outputs": [],
   "source": []
  },
  {
   "cell_type": "code",
   "execution_count": null,
   "id": "92b9efab",
   "metadata": {},
   "outputs": [],
   "source": []
  },
  {
   "cell_type": "code",
   "execution_count": null,
   "id": "9979bb6d",
   "metadata": {},
   "outputs": [],
   "source": []
  },
  {
   "cell_type": "code",
   "execution_count": null,
   "id": "75bb769c",
   "metadata": {},
   "outputs": [],
   "source": []
  },
  {
   "cell_type": "code",
   "execution_count": null,
   "id": "1968dc08",
   "metadata": {},
   "outputs": [],
   "source": []
  },
  {
   "cell_type": "code",
   "execution_count": null,
   "id": "6e38018b",
   "metadata": {},
   "outputs": [],
   "source": []
  },
  {
   "cell_type": "code",
   "execution_count": null,
   "id": "0273734e",
   "metadata": {},
   "outputs": [],
   "source": []
  },
  {
   "cell_type": "code",
   "execution_count": null,
   "id": "e41e7e88",
   "metadata": {},
   "outputs": [],
   "source": []
  },
  {
   "cell_type": "code",
   "execution_count": 147,
   "id": "153dbb26",
   "metadata": {},
   "outputs": [
    {
     "data": {
      "text/plain": [
       "AGE                      0.062706\n",
       "SMOKING                 -0.255705\n",
       "YELLOW_FINGERS          -0.282425\n",
       "ANXIETY                  0.006504\n",
       "PEER_PRESSURE           -0.006504\n",
       "CHRONIC DISEASE         -0.019513\n",
       "FATIGUE                 -0.741836\n",
       "ALLERGY                 -0.229118\n",
       "WHEEZING                -0.229118\n",
       "ALCOHOL CONSUMING       -0.229118\n",
       "COUGHING                -0.322786\n",
       "SHORTNESS OF BREATH     -0.589714\n",
       "SWALLOWING DIFFICULTY    0.123812\n",
       "CHEST PAIN              -0.229118\n",
       "dtype: float64"
      ]
     },
     "execution_count": 147,
     "metadata": {},
     "output_type": "execute_result"
    }
   ],
   "source": [
    "data.skew(axis=0,skipna=True)"
   ]
  },
  {
   "cell_type": "markdown",
   "id": "96776b2f",
   "metadata": {},
   "source": [
    "#### Observation: : Here we observe that the skewness value for Age is 0.068544 and value for Shortness of Breath which is below -0.5, so it is Negatively Skewed."
   ]
  },
  {
   "cell_type": "code",
   "execution_count": 148,
   "id": "33b067be",
   "metadata": {},
   "outputs": [
    {
     "name": "stdout",
     "output_type": "stream",
     "text": [
      "<class 'pandas.core.frame.DataFrame'>\n",
      "RangeIndex: 309 entries, 0 to 308\n",
      "Data columns (total 16 columns):\n",
      " #   Column                 Non-Null Count  Dtype \n",
      "---  ------                 --------------  ----- \n",
      " 0   GENDER                 309 non-null    object\n",
      " 1   AGE                    309 non-null    int64 \n",
      " 2   SMOKING                309 non-null    int64 \n",
      " 3   YELLOW_FINGERS         309 non-null    int64 \n",
      " 4   ANXIETY                309 non-null    int64 \n",
      " 5   PEER_PRESSURE          309 non-null    int64 \n",
      " 6   CHRONIC DISEASE        309 non-null    int64 \n",
      " 7   FATIGUE                309 non-null    int64 \n",
      " 8   ALLERGY                309 non-null    int64 \n",
      " 9   WHEEZING               309 non-null    int64 \n",
      " 10  ALCOHOL CONSUMING      309 non-null    int64 \n",
      " 11  COUGHING               309 non-null    int64 \n",
      " 12  SHORTNESS OF BREATH    309 non-null    int64 \n",
      " 13  SWALLOWING DIFFICULTY  309 non-null    int64 \n",
      " 14  CHEST PAIN             309 non-null    int64 \n",
      " 15  LUNG_CANCER            309 non-null    object\n",
      "dtypes: int64(14), object(2)\n",
      "memory usage: 38.8+ KB\n"
     ]
    }
   ],
   "source": [
    "data.info()"
   ]
  },
  {
   "cell_type": "markdown",
   "id": "e26d4211",
   "metadata": {},
   "source": [
    "## Categorical Data"
   ]
  },
  {
   "cell_type": "code",
   "execution_count": 149,
   "id": "2504b0b8",
   "metadata": {},
   "outputs": [],
   "source": [
    "#data_cat = data.select_dtypes(object)\n",
    "#data_cat\n"
   ]
  },
  {
   "cell_type": "markdown",
   "id": "330f5210",
   "metadata": {},
   "source": [
    "## Numerical Data"
   ]
  },
  {
   "cell_type": "code",
   "execution_count": 150,
   "id": "162cdf5c",
   "metadata": {
    "scrolled": true
   },
   "outputs": [
    {
     "data": {
      "text/html": [
       "<div>\n",
       "<style scoped>\n",
       "    .dataframe tbody tr th:only-of-type {\n",
       "        vertical-align: middle;\n",
       "    }\n",
       "\n",
       "    .dataframe tbody tr th {\n",
       "        vertical-align: top;\n",
       "    }\n",
       "\n",
       "    .dataframe thead th {\n",
       "        text-align: right;\n",
       "    }\n",
       "</style>\n",
       "<table border=\"1\" class=\"dataframe\">\n",
       "  <thead>\n",
       "    <tr style=\"text-align: right;\">\n",
       "      <th></th>\n",
       "      <th>AGE</th>\n",
       "      <th>SMOKING</th>\n",
       "      <th>YELLOW_FINGERS</th>\n",
       "      <th>ANXIETY</th>\n",
       "      <th>PEER_PRESSURE</th>\n",
       "      <th>CHRONIC DISEASE</th>\n",
       "      <th>FATIGUE</th>\n",
       "      <th>ALLERGY</th>\n",
       "      <th>WHEEZING</th>\n",
       "      <th>ALCOHOL CONSUMING</th>\n",
       "      <th>COUGHING</th>\n",
       "      <th>SHORTNESS OF BREATH</th>\n",
       "      <th>SWALLOWING DIFFICULTY</th>\n",
       "      <th>CHEST PAIN</th>\n",
       "    </tr>\n",
       "  </thead>\n",
       "  <tbody>\n",
       "    <tr>\n",
       "      <th>0</th>\n",
       "      <td>69</td>\n",
       "      <td>1</td>\n",
       "      <td>2</td>\n",
       "      <td>2</td>\n",
       "      <td>1</td>\n",
       "      <td>1</td>\n",
       "      <td>2</td>\n",
       "      <td>1</td>\n",
       "      <td>2</td>\n",
       "      <td>2</td>\n",
       "      <td>2</td>\n",
       "      <td>2</td>\n",
       "      <td>2</td>\n",
       "      <td>2</td>\n",
       "    </tr>\n",
       "    <tr>\n",
       "      <th>1</th>\n",
       "      <td>74</td>\n",
       "      <td>2</td>\n",
       "      <td>1</td>\n",
       "      <td>1</td>\n",
       "      <td>1</td>\n",
       "      <td>2</td>\n",
       "      <td>2</td>\n",
       "      <td>2</td>\n",
       "      <td>1</td>\n",
       "      <td>1</td>\n",
       "      <td>1</td>\n",
       "      <td>2</td>\n",
       "      <td>2</td>\n",
       "      <td>2</td>\n",
       "    </tr>\n",
       "    <tr>\n",
       "      <th>2</th>\n",
       "      <td>59</td>\n",
       "      <td>1</td>\n",
       "      <td>1</td>\n",
       "      <td>1</td>\n",
       "      <td>2</td>\n",
       "      <td>1</td>\n",
       "      <td>2</td>\n",
       "      <td>1</td>\n",
       "      <td>2</td>\n",
       "      <td>1</td>\n",
       "      <td>2</td>\n",
       "      <td>2</td>\n",
       "      <td>1</td>\n",
       "      <td>2</td>\n",
       "    </tr>\n",
       "    <tr>\n",
       "      <th>3</th>\n",
       "      <td>63</td>\n",
       "      <td>2</td>\n",
       "      <td>2</td>\n",
       "      <td>2</td>\n",
       "      <td>1</td>\n",
       "      <td>1</td>\n",
       "      <td>1</td>\n",
       "      <td>1</td>\n",
       "      <td>1</td>\n",
       "      <td>2</td>\n",
       "      <td>1</td>\n",
       "      <td>1</td>\n",
       "      <td>2</td>\n",
       "      <td>2</td>\n",
       "    </tr>\n",
       "    <tr>\n",
       "      <th>4</th>\n",
       "      <td>63</td>\n",
       "      <td>1</td>\n",
       "      <td>2</td>\n",
       "      <td>1</td>\n",
       "      <td>1</td>\n",
       "      <td>1</td>\n",
       "      <td>1</td>\n",
       "      <td>1</td>\n",
       "      <td>2</td>\n",
       "      <td>1</td>\n",
       "      <td>2</td>\n",
       "      <td>2</td>\n",
       "      <td>1</td>\n",
       "      <td>1</td>\n",
       "    </tr>\n",
       "    <tr>\n",
       "      <th>...</th>\n",
       "      <td>...</td>\n",
       "      <td>...</td>\n",
       "      <td>...</td>\n",
       "      <td>...</td>\n",
       "      <td>...</td>\n",
       "      <td>...</td>\n",
       "      <td>...</td>\n",
       "      <td>...</td>\n",
       "      <td>...</td>\n",
       "      <td>...</td>\n",
       "      <td>...</td>\n",
       "      <td>...</td>\n",
       "      <td>...</td>\n",
       "      <td>...</td>\n",
       "    </tr>\n",
       "    <tr>\n",
       "      <th>304</th>\n",
       "      <td>56</td>\n",
       "      <td>1</td>\n",
       "      <td>1</td>\n",
       "      <td>1</td>\n",
       "      <td>2</td>\n",
       "      <td>2</td>\n",
       "      <td>2</td>\n",
       "      <td>1</td>\n",
       "      <td>1</td>\n",
       "      <td>2</td>\n",
       "      <td>2</td>\n",
       "      <td>2</td>\n",
       "      <td>2</td>\n",
       "      <td>1</td>\n",
       "    </tr>\n",
       "    <tr>\n",
       "      <th>305</th>\n",
       "      <td>70</td>\n",
       "      <td>2</td>\n",
       "      <td>1</td>\n",
       "      <td>1</td>\n",
       "      <td>1</td>\n",
       "      <td>1</td>\n",
       "      <td>2</td>\n",
       "      <td>2</td>\n",
       "      <td>2</td>\n",
       "      <td>2</td>\n",
       "      <td>2</td>\n",
       "      <td>2</td>\n",
       "      <td>1</td>\n",
       "      <td>2</td>\n",
       "    </tr>\n",
       "    <tr>\n",
       "      <th>306</th>\n",
       "      <td>58</td>\n",
       "      <td>2</td>\n",
       "      <td>1</td>\n",
       "      <td>1</td>\n",
       "      <td>1</td>\n",
       "      <td>1</td>\n",
       "      <td>1</td>\n",
       "      <td>2</td>\n",
       "      <td>2</td>\n",
       "      <td>2</td>\n",
       "      <td>2</td>\n",
       "      <td>1</td>\n",
       "      <td>1</td>\n",
       "      <td>2</td>\n",
       "    </tr>\n",
       "    <tr>\n",
       "      <th>307</th>\n",
       "      <td>67</td>\n",
       "      <td>2</td>\n",
       "      <td>1</td>\n",
       "      <td>2</td>\n",
       "      <td>1</td>\n",
       "      <td>1</td>\n",
       "      <td>2</td>\n",
       "      <td>2</td>\n",
       "      <td>1</td>\n",
       "      <td>2</td>\n",
       "      <td>2</td>\n",
       "      <td>2</td>\n",
       "      <td>1</td>\n",
       "      <td>2</td>\n",
       "    </tr>\n",
       "    <tr>\n",
       "      <th>308</th>\n",
       "      <td>62</td>\n",
       "      <td>1</td>\n",
       "      <td>1</td>\n",
       "      <td>1</td>\n",
       "      <td>2</td>\n",
       "      <td>1</td>\n",
       "      <td>2</td>\n",
       "      <td>2</td>\n",
       "      <td>2</td>\n",
       "      <td>2</td>\n",
       "      <td>1</td>\n",
       "      <td>1</td>\n",
       "      <td>2</td>\n",
       "      <td>1</td>\n",
       "    </tr>\n",
       "  </tbody>\n",
       "</table>\n",
       "<p>309 rows × 14 columns</p>\n",
       "</div>"
      ],
      "text/plain": [
       "     AGE  SMOKING  YELLOW_FINGERS  ANXIETY  PEER_PRESSURE  CHRONIC DISEASE  \\\n",
       "0     69        1               2        2              1                1   \n",
       "1     74        2               1        1              1                2   \n",
       "2     59        1               1        1              2                1   \n",
       "3     63        2               2        2              1                1   \n",
       "4     63        1               2        1              1                1   \n",
       "..   ...      ...             ...      ...            ...              ...   \n",
       "304   56        1               1        1              2                2   \n",
       "305   70        2               1        1              1                1   \n",
       "306   58        2               1        1              1                1   \n",
       "307   67        2               1        2              1                1   \n",
       "308   62        1               1        1              2                1   \n",
       "\n",
       "     FATIGUE   ALLERGY   WHEEZING  ALCOHOL CONSUMING  COUGHING  \\\n",
       "0           2         1         2                  2         2   \n",
       "1           2         2         1                  1         1   \n",
       "2           2         1         2                  1         2   \n",
       "3           1         1         1                  2         1   \n",
       "4           1         1         2                  1         2   \n",
       "..        ...       ...       ...                ...       ...   \n",
       "304         2         1         1                  2         2   \n",
       "305         2         2         2                  2         2   \n",
       "306         1         2         2                  2         2   \n",
       "307         2         2         1                  2         2   \n",
       "308         2         2         2                  2         1   \n",
       "\n",
       "     SHORTNESS OF BREATH  SWALLOWING DIFFICULTY  CHEST PAIN  \n",
       "0                      2                      2           2  \n",
       "1                      2                      2           2  \n",
       "2                      2                      1           2  \n",
       "3                      1                      2           2  \n",
       "4                      2                      1           1  \n",
       "..                   ...                    ...         ...  \n",
       "304                    2                      2           1  \n",
       "305                    2                      1           2  \n",
       "306                    1                      1           2  \n",
       "307                    2                      1           2  \n",
       "308                    1                      2           1  \n",
       "\n",
       "[309 rows x 14 columns]"
      ]
     },
     "execution_count": 150,
     "metadata": {},
     "output_type": "execute_result"
    }
   ],
   "source": [
    "data_num = data.select_dtypes([\"int64\",\"float64\"])\n",
    "data_num\n"
   ]
  },
  {
   "cell_type": "markdown",
   "id": "1a5ec65d",
   "metadata": {},
   "source": [
    "## Converting Categorical Data Into Numerical Data:\n"
   ]
  },
  {
   "cell_type": "code",
   "execution_count": 151,
   "id": "0703f409",
   "metadata": {
    "scrolled": true
   },
   "outputs": [
    {
     "data": {
      "text/plain": [
       "0      1\n",
       "1      1\n",
       "2      0\n",
       "3      0\n",
       "4      0\n",
       "      ..\n",
       "304    1\n",
       "305    1\n",
       "306    1\n",
       "307    1\n",
       "308    1\n",
       "Name: LUNG_CANCER, Length: 309, dtype: int64"
      ]
     },
     "execution_count": 151,
     "metadata": {},
     "output_type": "execute_result"
    }
   ],
   "source": [
    "data['LUNG_CANCER'] = data['LUNG_CANCER'].map({'YES':1,'NO':0})\n",
    "data['LUNG_CANCER']"
   ]
  },
  {
   "cell_type": "code",
   "execution_count": 152,
   "id": "580ac30e",
   "metadata": {},
   "outputs": [
    {
     "data": {
      "text/plain": [
       "0      1\n",
       "1      1\n",
       "2      0\n",
       "3      1\n",
       "4      0\n",
       "      ..\n",
       "304    0\n",
       "305    1\n",
       "306    1\n",
       "307    1\n",
       "308    1\n",
       "Name: GENDER, Length: 309, dtype: int64"
      ]
     },
     "execution_count": 152,
     "metadata": {},
     "output_type": "execute_result"
    }
   ],
   "source": [
    "data['GENDER'] = data['GENDER'].map({'M':1,'F':0})\n",
    "data['GENDER']"
   ]
  },
  {
   "cell_type": "code",
   "execution_count": 153,
   "id": "0f83564d",
   "metadata": {},
   "outputs": [
    {
     "data": {
      "text/plain": [
       "<AxesSubplot:xlabel='GENDER', ylabel='LUNG_CANCER'>"
      ]
     },
     "execution_count": 153,
     "metadata": {},
     "output_type": "execute_result"
    },
    {
     "data": {
      "image/png": "[encoded data removed]",
      "text/plain": [
       "<Figure size 1500x600 with 1 Axes>"
      ]
     },
     "metadata": {},
     "output_type": "display_data"
    }
   ],
   "source": [
    "ax=sns.barplot(data['GENDER'],data['LUNG_CANCER'])\n",
    "ax"
   ]
  },
  {
   "cell_type": "code",
   "execution_count": 154,
   "id": "2153db09",
   "metadata": {},
   "outputs": [],
   "source": [
    "#from sklearn.preprocessing import LabelEncoder\n",
    "\n",
    "#enc=LabelEncoder()#enc is object of the class labelencoder\n",
    "\n",
    "#data['YELLOW_FINGERS']=enc.fit_transform(data['YELLOW_FINGERS']) #it'll create extra column\n",
    "#data.head()"
   ]
  },
  {
   "cell_type": "code",
   "execution_count": 155,
   "id": "c65f3800",
   "metadata": {},
   "outputs": [],
   "source": [
    "#data['ANXIETY']=enc.fit_transform(data['ANXIETY']) #it'll create extra column\n",
    "#data.head()"
   ]
  },
  {
   "cell_type": "code",
   "execution_count": 156,
   "id": "c11bed8e",
   "metadata": {},
   "outputs": [],
   "source": [
    "#data.columns"
   ]
  },
  {
   "cell_type": "code",
   "execution_count": 157,
   "id": "db5d27da",
   "metadata": {},
   "outputs": [],
   "source": [
    "#data['PEER_PRESSURE']=enc.fit_transform(data['PEER_PRESSURE']) #it'll create extra column\n",
    "#data.head()"
   ]
  },
  {
   "cell_type": "code",
   "execution_count": 158,
   "id": "3b8c0e40",
   "metadata": {},
   "outputs": [],
   "source": [
    "#data['CHRONIC DISEASE']=enc.fit_transform(data['CHRONIC DISEASE']) #it'll create extra column\n",
    "#data.head()"
   ]
  },
  {
   "cell_type": "code",
   "execution_count": 159,
   "id": "c4104de6",
   "metadata": {},
   "outputs": [],
   "source": [
    "#data.columns"
   ]
  },
  {
   "cell_type": "code",
   "execution_count": 160,
   "id": "172b97f2",
   "metadata": {},
   "outputs": [],
   "source": [
    "#data['FATIGUE ']=enc.fit_transform(data['FATIGUE '])\n",
    "#data['ALLERGY ']=enc.fit_transform(data['ALLERGY '])\n",
    "#data['WHEEZING']=enc.fit_transform(data['WHEEZING'])\n",
    "#data['ALCOHOL CONSUMING']=enc.fit_transform(data['ALCOHOL CONSUMING'])#it'll create extra column\n",
    "#data['COUGHING']=enc.fit_transform(data['COUGHING'])\n",
    "#data['SHORTNESS OF BREATH']=enc.fit_transform(data['SHORTNESS OF BREATH'])\n",
    "#data['SWALLOWING DIFFICULTY']=enc.fit_transform(data['SWALLOWING DIFFICULTY'])\n",
    "#data['CHEST PAIN']=enc.fit_transform(data['CHEST PAIN'])\n",
    "\n",
    "#data.head()"
   ]
  },
  {
   "cell_type": "code",
   "execution_count": 161,
   "id": "124d746a",
   "metadata": {},
   "outputs": [],
   "source": [
    "#data"
   ]
  },
  {
   "cell_type": "markdown",
   "id": "e0218a03",
   "metadata": {},
   "source": [
    "## Skewness"
   ]
  },
  {
   "cell_type": "code",
   "execution_count": 162,
   "id": "944849b7",
   "metadata": {},
   "outputs": [],
   "source": [
    "#for col in data_num:\n",
    "    #print(col)\n",
    "    #print(skew(data_num[col]))\n",
    "    \n",
    "    #plt.figure()\n",
    "    #sns.distplot(data_num[col])\n",
    "    #plt.show()"
   ]
  },
  {
   "cell_type": "markdown",
   "id": "d7b8f007",
   "metadata": {},
   "source": [
    "## Correlation"
   ]
  },
  {
   "cell_type": "code",
   "execution_count": 163,
   "id": "8f1cbaef",
   "metadata": {},
   "outputs": [
    {
     "data": {
      "text/html": [
       "<div>\n",
       "<style scoped>\n",
       "    .dataframe tbody tr th:only-of-type {\n",
       "        vertical-align: middle;\n",
       "    }\n",
       "\n",
       "    .dataframe tbody tr th {\n",
       "        vertical-align: top;\n",
       "    }\n",
       "\n",
       "    .dataframe thead th {\n",
       "        text-align: right;\n",
       "    }\n",
       "</style>\n",
       "<table border=\"1\" class=\"dataframe\">\n",
       "  <thead>\n",
       "    <tr style=\"text-align: right;\">\n",
       "      <th></th>\n",
       "      <th>AGE</th>\n",
       "      <th>SMOKING</th>\n",
       "      <th>YELLOW_FINGERS</th>\n",
       "      <th>ANXIETY</th>\n",
       "      <th>PEER_PRESSURE</th>\n",
       "      <th>CHRONIC DISEASE</th>\n",
       "      <th>FATIGUE</th>\n",
       "      <th>ALLERGY</th>\n",
       "      <th>WHEEZING</th>\n",
       "      <th>ALCOHOL CONSUMING</th>\n",
       "      <th>COUGHING</th>\n",
       "      <th>SHORTNESS OF BREATH</th>\n",
       "      <th>SWALLOWING DIFFICULTY</th>\n",
       "      <th>CHEST PAIN</th>\n",
       "    </tr>\n",
       "  </thead>\n",
       "  <tbody>\n",
       "    <tr>\n",
       "      <th>AGE</th>\n",
       "      <td>1.000000</td>\n",
       "      <td>-0.086005</td>\n",
       "      <td>-0.005501</td>\n",
       "      <td>0.029305</td>\n",
       "      <td>-0.007499</td>\n",
       "      <td>0.013566</td>\n",
       "      <td>0.032392</td>\n",
       "      <td>0.054056</td>\n",
       "      <td>0.048147</td>\n",
       "      <td>0.032109</td>\n",
       "      <td>0.168913</td>\n",
       "      <td>0.001807</td>\n",
       "      <td>-0.026978</td>\n",
       "      <td>-0.029511</td>\n",
       "    </tr>\n",
       "    <tr>\n",
       "      <th>SMOKING</th>\n",
       "      <td>-0.086005</td>\n",
       "      <td>1.000000</td>\n",
       "      <td>-0.014585</td>\n",
       "      <td>0.160267</td>\n",
       "      <td>-0.042822</td>\n",
       "      <td>-0.141522</td>\n",
       "      <td>-0.029575</td>\n",
       "      <td>0.001913</td>\n",
       "      <td>-0.129426</td>\n",
       "      <td>-0.050623</td>\n",
       "      <td>-0.129471</td>\n",
       "      <td>0.061264</td>\n",
       "      <td>0.030718</td>\n",
       "      <td>0.120117</td>\n",
       "    </tr>\n",
       "    <tr>\n",
       "      <th>YELLOW_FINGERS</th>\n",
       "      <td>-0.005501</td>\n",
       "      <td>-0.014585</td>\n",
       "      <td>1.000000</td>\n",
       "      <td>0.565829</td>\n",
       "      <td>0.323083</td>\n",
       "      <td>0.041122</td>\n",
       "      <td>-0.118058</td>\n",
       "      <td>-0.144300</td>\n",
       "      <td>-0.078515</td>\n",
       "      <td>-0.289025</td>\n",
       "      <td>-0.012640</td>\n",
       "      <td>-0.105944</td>\n",
       "      <td>0.345904</td>\n",
       "      <td>-0.104829</td>\n",
       "    </tr>\n",
       "    <tr>\n",
       "      <th>ANXIETY</th>\n",
       "      <td>0.029305</td>\n",
       "      <td>0.160267</td>\n",
       "      <td>0.565829</td>\n",
       "      <td>1.000000</td>\n",
       "      <td>0.216841</td>\n",
       "      <td>-0.009678</td>\n",
       "      <td>-0.188538</td>\n",
       "      <td>-0.165750</td>\n",
       "      <td>-0.191807</td>\n",
       "      <td>-0.165750</td>\n",
       "      <td>-0.225644</td>\n",
       "      <td>-0.144077</td>\n",
       "      <td>0.489403</td>\n",
       "      <td>-0.113634</td>\n",
       "    </tr>\n",
       "    <tr>\n",
       "      <th>PEER_PRESSURE</th>\n",
       "      <td>-0.007499</td>\n",
       "      <td>-0.042822</td>\n",
       "      <td>0.323083</td>\n",
       "      <td>0.216841</td>\n",
       "      <td>1.000000</td>\n",
       "      <td>0.048515</td>\n",
       "      <td>0.078148</td>\n",
       "      <td>-0.081800</td>\n",
       "      <td>-0.068771</td>\n",
       "      <td>-0.159973</td>\n",
       "      <td>-0.089019</td>\n",
       "      <td>-0.220175</td>\n",
       "      <td>0.366590</td>\n",
       "      <td>-0.094828</td>\n",
       "    </tr>\n",
       "    <tr>\n",
       "      <th>CHRONIC DISEASE</th>\n",
       "      <td>0.013566</td>\n",
       "      <td>-0.141522</td>\n",
       "      <td>0.041122</td>\n",
       "      <td>-0.009678</td>\n",
       "      <td>0.048515</td>\n",
       "      <td>1.000000</td>\n",
       "      <td>-0.110529</td>\n",
       "      <td>0.106386</td>\n",
       "      <td>-0.049967</td>\n",
       "      <td>0.002150</td>\n",
       "      <td>-0.175287</td>\n",
       "      <td>-0.026459</td>\n",
       "      <td>0.075176</td>\n",
       "      <td>-0.036938</td>\n",
       "    </tr>\n",
       "    <tr>\n",
       "      <th>FATIGUE</th>\n",
       "      <td>0.032392</td>\n",
       "      <td>-0.029575</td>\n",
       "      <td>-0.118058</td>\n",
       "      <td>-0.188538</td>\n",
       "      <td>0.078148</td>\n",
       "      <td>-0.110529</td>\n",
       "      <td>1.000000</td>\n",
       "      <td>0.003056</td>\n",
       "      <td>0.141937</td>\n",
       "      <td>-0.191377</td>\n",
       "      <td>0.146856</td>\n",
       "      <td>0.441745</td>\n",
       "      <td>-0.132790</td>\n",
       "      <td>-0.010832</td>\n",
       "    </tr>\n",
       "    <tr>\n",
       "      <th>ALLERGY</th>\n",
       "      <td>0.054056</td>\n",
       "      <td>0.001913</td>\n",
       "      <td>-0.144300</td>\n",
       "      <td>-0.165750</td>\n",
       "      <td>-0.081800</td>\n",
       "      <td>0.106386</td>\n",
       "      <td>0.003056</td>\n",
       "      <td>1.000000</td>\n",
       "      <td>0.173867</td>\n",
       "      <td>0.344339</td>\n",
       "      <td>0.189524</td>\n",
       "      <td>-0.030056</td>\n",
       "      <td>-0.061508</td>\n",
       "      <td>0.239433</td>\n",
       "    </tr>\n",
       "    <tr>\n",
       "      <th>WHEEZING</th>\n",
       "      <td>0.048147</td>\n",
       "      <td>-0.129426</td>\n",
       "      <td>-0.078515</td>\n",
       "      <td>-0.191807</td>\n",
       "      <td>-0.068771</td>\n",
       "      <td>-0.049967</td>\n",
       "      <td>0.141937</td>\n",
       "      <td>0.173867</td>\n",
       "      <td>1.000000</td>\n",
       "      <td>0.265659</td>\n",
       "      <td>0.374265</td>\n",
       "      <td>0.037834</td>\n",
       "      <td>0.069027</td>\n",
       "      <td>0.147640</td>\n",
       "    </tr>\n",
       "    <tr>\n",
       "      <th>ALCOHOL CONSUMING</th>\n",
       "      <td>0.032109</td>\n",
       "      <td>-0.050623</td>\n",
       "      <td>-0.289025</td>\n",
       "      <td>-0.165750</td>\n",
       "      <td>-0.159973</td>\n",
       "      <td>0.002150</td>\n",
       "      <td>-0.191377</td>\n",
       "      <td>0.344339</td>\n",
       "      <td>0.265659</td>\n",
       "      <td>1.000000</td>\n",
       "      <td>0.202720</td>\n",
       "      <td>-0.179416</td>\n",
       "      <td>-0.009294</td>\n",
       "      <td>0.331226</td>\n",
       "    </tr>\n",
       "    <tr>\n",
       "      <th>COUGHING</th>\n",
       "      <td>0.168913</td>\n",
       "      <td>-0.129471</td>\n",
       "      <td>-0.012640</td>\n",
       "      <td>-0.225644</td>\n",
       "      <td>-0.089019</td>\n",
       "      <td>-0.175287</td>\n",
       "      <td>0.146856</td>\n",
       "      <td>0.189524</td>\n",
       "      <td>0.374265</td>\n",
       "      <td>0.202720</td>\n",
       "      <td>1.000000</td>\n",
       "      <td>0.277385</td>\n",
       "      <td>-0.157586</td>\n",
       "      <td>0.083958</td>\n",
       "    </tr>\n",
       "    <tr>\n",
       "      <th>SHORTNESS OF BREATH</th>\n",
       "      <td>0.001807</td>\n",
       "      <td>0.061264</td>\n",
       "      <td>-0.105944</td>\n",
       "      <td>-0.144077</td>\n",
       "      <td>-0.220175</td>\n",
       "      <td>-0.026459</td>\n",
       "      <td>0.441745</td>\n",
       "      <td>-0.030056</td>\n",
       "      <td>0.037834</td>\n",
       "      <td>-0.179416</td>\n",
       "      <td>0.277385</td>\n",
       "      <td>1.000000</td>\n",
       "      <td>-0.161015</td>\n",
       "      <td>0.024256</td>\n",
       "    </tr>\n",
       "    <tr>\n",
       "      <th>SWALLOWING DIFFICULTY</th>\n",
       "      <td>-0.026978</td>\n",
       "      <td>0.030718</td>\n",
       "      <td>0.345904</td>\n",
       "      <td>0.489403</td>\n",
       "      <td>0.366590</td>\n",
       "      <td>0.075176</td>\n",
       "      <td>-0.132790</td>\n",
       "      <td>-0.061508</td>\n",
       "      <td>0.069027</td>\n",
       "      <td>-0.009294</td>\n",
       "      <td>-0.157586</td>\n",
       "      <td>-0.161015</td>\n",
       "      <td>1.000000</td>\n",
       "      <td>0.069027</td>\n",
       "    </tr>\n",
       "    <tr>\n",
       "      <th>CHEST PAIN</th>\n",
       "      <td>-0.029511</td>\n",
       "      <td>0.120117</td>\n",
       "      <td>-0.104829</td>\n",
       "      <td>-0.113634</td>\n",
       "      <td>-0.094828</td>\n",
       "      <td>-0.036938</td>\n",
       "      <td>-0.010832</td>\n",
       "      <td>0.239433</td>\n",
       "      <td>0.147640</td>\n",
       "      <td>0.331226</td>\n",
       "      <td>0.083958</td>\n",
       "      <td>0.024256</td>\n",
       "      <td>0.069027</td>\n",
       "      <td>1.000000</td>\n",
       "    </tr>\n",
       "  </tbody>\n",
       "</table>\n",
       "</div>"
      ],
      "text/plain": [
       "                            AGE   SMOKING  YELLOW_FINGERS   ANXIETY  \\\n",
       "AGE                    1.000000 -0.086005       -0.005501  0.029305   \n",
       "SMOKING               -0.086005  1.000000       -0.014585  0.160267   \n",
       "YELLOW_FINGERS        -0.005501 -0.014585        1.000000  0.565829   \n",
       "ANXIETY                0.029305  0.160267        0.565829  1.000000   \n",
       "PEER_PRESSURE         -0.007499 -0.042822        0.323083  0.216841   \n",
       "CHRONIC DISEASE        0.013566 -0.141522        0.041122 -0.009678   \n",
       "FATIGUE                0.032392 -0.029575       -0.118058 -0.188538   \n",
       "ALLERGY                0.054056  0.001913       -0.144300 -0.165750   \n",
       "WHEEZING               0.048147 -0.129426       -0.078515 -0.191807   \n",
       "ALCOHOL CONSUMING      0.032109 -0.050623       -0.289025 -0.165750   \n",
       "COUGHING               0.168913 -0.129471       -0.012640 -0.225644   \n",
       "SHORTNESS OF BREATH    0.001807  0.061264       -0.105944 -0.144077   \n",
       "SWALLOWING DIFFICULTY -0.026978  0.030718        0.345904  0.489403   \n",
       "CHEST PAIN            -0.029511  0.120117       -0.104829 -0.113634   \n",
       "\n",
       "                       PEER_PRESSURE  CHRONIC DISEASE  FATIGUE   ALLERGY   \\\n",
       "AGE                        -0.007499         0.013566  0.032392  0.054056   \n",
       "SMOKING                    -0.042822        -0.141522 -0.029575  0.001913   \n",
       "YELLOW_FINGERS              0.323083         0.041122 -0.118058 -0.144300   \n",
       "ANXIETY                     0.216841        -0.009678 -0.188538 -0.165750   \n",
       "PEER_PRESSURE               1.000000         0.048515  0.078148 -0.081800   \n",
       "CHRONIC DISEASE             0.048515         1.000000 -0.110529  0.106386   \n",
       "FATIGUE                     0.078148        -0.110529  1.000000  0.003056   \n",
       "ALLERGY                    -0.081800         0.106386  0.003056  1.000000   \n",
       "WHEEZING                   -0.068771        -0.049967  0.141937  0.173867   \n",
       "ALCOHOL CONSUMING          -0.159973         0.002150 -0.191377  0.344339   \n",
       "COUGHING                   -0.089019        -0.175287  0.146856  0.189524   \n",
       "SHORTNESS OF BREATH        -0.220175        -0.026459  0.441745 -0.030056   \n",
       "SWALLOWING DIFFICULTY       0.366590         0.075176 -0.132790 -0.061508   \n",
       "CHEST PAIN                 -0.094828        -0.036938 -0.010832  0.239433   \n",
       "\n",
       "                       WHEEZING  ALCOHOL CONSUMING  COUGHING  \\\n",
       "AGE                    0.048147           0.032109  0.168913   \n",
       "SMOKING               -0.129426          -0.050623 -0.129471   \n",
       "YELLOW_FINGERS        -0.078515          -0.289025 -0.012640   \n",
       "ANXIETY               -0.191807          -0.165750 -0.225644   \n",
       "PEER_PRESSURE         -0.068771          -0.159973 -0.089019   \n",
       "CHRONIC DISEASE       -0.049967           0.002150 -0.175287   \n",
       "FATIGUE                0.141937          -0.191377  0.146856   \n",
       "ALLERGY                0.173867           0.344339  0.189524   \n",
       "WHEEZING               1.000000           0.265659  0.374265   \n",
       "ALCOHOL CONSUMING      0.265659           1.000000  0.202720   \n",
       "COUGHING               0.374265           0.202720  1.000000   \n",
       "SHORTNESS OF BREATH    0.037834          -0.179416  0.277385   \n",
       "SWALLOWING DIFFICULTY  0.069027          -0.009294 -0.157586   \n",
       "CHEST PAIN             0.147640           0.331226  0.083958   \n",
       "\n",
       "                       SHORTNESS OF BREATH  SWALLOWING DIFFICULTY  CHEST PAIN  \n",
       "AGE                               0.001807              -0.026978   -0.029511  \n",
       "SMOKING                           0.061264               0.030718    0.120117  \n",
       "YELLOW_FINGERS                   -0.105944               0.345904   -0.104829  \n",
       "ANXIETY                          -0.144077               0.489403   -0.113634  \n",
       "PEER_PRESSURE                    -0.220175               0.366590   -0.094828  \n",
       "CHRONIC DISEASE                  -0.026459               0.075176   -0.036938  \n",
       "FATIGUE                           0.441745              -0.132790   -0.010832  \n",
       "ALLERGY                          -0.030056              -0.061508    0.239433  \n",
       "WHEEZING                          0.037834               0.069027    0.147640  \n",
       "ALCOHOL CONSUMING                -0.179416              -0.009294    0.331226  \n",
       "COUGHING                          0.277385              -0.157586    0.083958  \n",
       "SHORTNESS OF BREATH               1.000000              -0.161015    0.024256  \n",
       "SWALLOWING DIFFICULTY            -0.161015               1.000000    0.069027  \n",
       "CHEST PAIN                        0.024256               0.069027    1.000000  "
      ]
     },
     "execution_count": 163,
     "metadata": {},
     "output_type": "execute_result"
    }
   ],
   "source": [
    "data_num.corr()"
   ]
  },
  {
   "cell_type": "code",
   "execution_count": 164,
   "id": "8503781b",
   "metadata": {},
   "outputs": [
    {
     "data": {
      "image/png": "[encoded data removed]",
      "text/plain": [
       "<Figure size 1600x600 with 2 Axes>"
      ]
     },
     "metadata": {},
     "output_type": "display_data"
    }
   ],
   "source": [
    "plt.figure(figsize=(16, 6))\n",
    "sns.heatmap(data.corr(),annot=True)\n",
    "plt.show()"
   ]
  },
  {
   "cell_type": "markdown",
   "id": "6bd45a51",
   "metadata": {},
   "source": [
    "#### Observation: Since there is no strong correlation between the variables there is no collinearity."
   ]
  },
  {
   "cell_type": "markdown",
   "id": "2006b6cd",
   "metadata": {},
   "source": [
    "## Standardization"
   ]
  },
  {
   "cell_type": "code",
   "execution_count": 165,
   "id": "433b00ad",
   "metadata": {},
   "outputs": [],
   "source": [
    "\n",
    "#data = (data - data.mean())/data.std()\n",
    "#data"
   ]
  },
  {
   "cell_type": "code",
   "execution_count": 166,
   "id": "881ee83c",
   "metadata": {},
   "outputs": [
    {
     "data": {
      "text/plain": [
       "Index(['GENDER', 'AGE', 'SMOKING', 'YELLOW_FINGERS', 'ANXIETY',\n",
       "       'PEER_PRESSURE', 'CHRONIC DISEASE', 'FATIGUE ', 'ALLERGY ', 'WHEEZING',\n",
       "       'ALCOHOL CONSUMING', 'COUGHING', 'SHORTNESS OF BREATH',\n",
       "       'SWALLOWING DIFFICULTY', 'CHEST PAIN', 'LUNG_CANCER'],\n",
       "      dtype='object')"
      ]
     },
     "execution_count": 166,
     "metadata": {},
     "output_type": "execute_result"
    }
   ],
   "source": [
    "a=data.columns\n",
    "a"
   ]
  },
  {
   "cell_type": "code",
   "execution_count": 167,
   "id": "6785c483",
   "metadata": {},
   "outputs": [],
   "source": [
    "#from sklearn import preprocessing\n",
    "#import pandas as pd\n",
    "#d = preprocessing.normalize(data)\n",
    "#scaled_df = pd.DataFrame(d, columns=a)\n",
    "#scaled_df.head()"
   ]
  },
  {
   "cell_type": "markdown",
   "id": "873ccb9c",
   "metadata": {},
   "source": [
    "## MinMax Normalization"
   ]
  },
  {
   "cell_type": "code",
   "execution_count": 168,
   "id": "a9f70bf5",
   "metadata": {},
   "outputs": [],
   "source": [
    "#from sklearn import preprocessing\n",
    "\n",
    "#scaler = preprocessing.MinMaxScaler()\n",
    "#names = data.columns\n",
    "#d = scaler.fit_transform(data)\n",
    "#data = pd.DataFrame(d, columns=names)\n",
    "#data.head()"
   ]
  },
  {
   "cell_type": "markdown",
   "id": "1eeba3c9",
   "metadata": {},
   "source": [
    "## Normalization"
   ]
  },
  {
   "cell_type": "code",
   "execution_count": 169,
   "id": "0be61837",
   "metadata": {},
   "outputs": [],
   "source": [
    "#data =(data-data.min())/(data.max() - data.min())\n",
    "#data\n"
   ]
  },
  {
   "cell_type": "markdown",
   "id": "fbdb2901",
   "metadata": {},
   "source": [
    "## Class Imbalance"
   ]
  },
  {
   "cell_type": "markdown",
   "id": "d58876f5",
   "metadata": {},
   "source": [
    "### Oversampling Using Smote"
   ]
  },
  {
   "cell_type": "markdown",
   "id": "17734b8e",
   "metadata": {},
   "source": [
    "###### SMOTE(Syntax Minority Oversampling Technique) is one of the most commonly used oversampling methods to solve the imbalanceproblem. It aims to balance class distibution by randomly increasing minority class examples by replicating them.\n"
   ]
  },
  {
   "cell_type": "markdown",
   "id": "8f8cdf83",
   "metadata": {},
   "source": [
    "### Checking For Class Imbalance"
   ]
  },
  {
   "cell_type": "code",
   "execution_count": 170,
   "id": "c84ba43e",
   "metadata": {},
   "outputs": [
    {
     "data": {
      "text/plain": [
       "1    270\n",
       "0     39\n",
       "Name: LUNG_CANCER, dtype: int64"
      ]
     },
     "execution_count": 170,
     "metadata": {},
     "output_type": "execute_result"
    }
   ],
   "source": [
    "data['LUNG_CANCER'].value_counts()"
   ]
  },
  {
   "cell_type": "markdown",
   "id": "e1f2fdfb",
   "metadata": {},
   "source": [
    "#### Observation: There is a class imbalnce in the target variable"
   ]
  },
  {
   "cell_type": "markdown",
   "id": "45150260",
   "metadata": {},
   "source": [
    "### Balancing The Class"
   ]
  },
  {
   "cell_type": "code",
   "execution_count": 128,
   "id": "9b1d48f1",
   "metadata": {},
   "outputs": [
    {
     "data": {
      "text/plain": [
       "GENDER                   int64\n",
       "AGE                      int64\n",
       "SMOKING                  int64\n",
       "YELLOW_FINGERS           int64\n",
       "ANXIETY                  int64\n",
       "PEER_PRESSURE            int64\n",
       "CHRONIC DISEASE          int64\n",
       "FATIGUE                  int64\n",
       "ALLERGY                  int64\n",
       "WHEEZING                 int64\n",
       "ALCOHOL CONSUMING        int64\n",
       "COUGHING                 int64\n",
       "SHORTNESS OF BREATH      int64\n",
       "SWALLOWING DIFFICULTY    int64\n",
       "CHEST PAIN               int64\n",
       "LUNG_CANCER              int64\n",
       "dtype: object"
      ]
     },
     "execution_count": 128,
     "metadata": {},
     "output_type": "execute_result"
    }
   ],
   "source": [
    "data.dtypes"
   ]
  },
  {
   "cell_type": "code",
   "execution_count": 129,
   "id": "8d3e4052",
   "metadata": {},
   "outputs": [],
   "source": [
    "#data = pd.get_dummies(data)"
   ]
  },
  {
   "cell_type": "code",
   "execution_count": 130,
   "id": "4f3b1999",
   "metadata": {},
   "outputs": [
    {
     "data": {
      "text/plain": [
       "GENDER                   int64\n",
       "AGE                      int64\n",
       "SMOKING                  int64\n",
       "YELLOW_FINGERS           int64\n",
       "ANXIETY                  int64\n",
       "PEER_PRESSURE            int64\n",
       "CHRONIC DISEASE          int64\n",
       "FATIGUE                  int64\n",
       "ALLERGY                  int64\n",
       "WHEEZING                 int64\n",
       "ALCOHOL CONSUMING        int64\n",
       "COUGHING                 int64\n",
       "SHORTNESS OF BREATH      int64\n",
       "SWALLOWING DIFFICULTY    int64\n",
       "CHEST PAIN               int64\n",
       "LUNG_CANCER              int64\n",
       "dtype: object"
      ]
     },
     "execution_count": 130,
     "metadata": {},
     "output_type": "execute_result"
    }
   ],
   "source": [
    "data.dtypes"
   ]
  },
  {
   "cell_type": "code",
   "execution_count": null,
   "id": "0709b3f3",
   "metadata": {},
   "outputs": [],
   "source": []
  },
  {
   "cell_type": "code",
   "execution_count": 131,
   "id": "b481a750",
   "metadata": {},
   "outputs": [
    {
     "name": "stdout",
     "output_type": "stream",
     "text": [
      "(309, 15)\n",
      "(309,)\n"
     ]
    }
   ],
   "source": [
    "q = data.drop(['LUNG_CANCER'],axis=1)\n",
    "w = data['LUNG_CANCER']\n",
    "\n",
    "print(q.shape)\n",
    "print(w.shape)"
   ]
  },
  {
   "cell_type": "code",
   "execution_count": 132,
   "id": "8e498a57",
   "metadata": {},
   "outputs": [],
   "source": [
    "q = data.drop(['LUNG_CANCER'],axis=1)\n",
    "w = data['LUNG_CANCER']\n",
    "q_resampled, w_resampled = SMOTE().fit_resample(q,w)\n",
    "#X, y = SMOTE().fit_resample(q,w)"
   ]
  },
  {
   "cell_type": "code",
   "execution_count": 45,
   "id": "c068bed3",
   "metadata": {},
   "outputs": [
    {
     "data": {
      "text/plain": [
       "Index(['GENDER', 'AGE', 'SMOKING', 'YELLOW_FINGERS', 'ANXIETY',\n",
       "       'PEER_PRESSURE', 'CHRONIC DISEASE', 'FATIGUE ', 'ALLERGY ', 'WHEEZING',\n",
       "       'ALCOHOL CONSUMING', 'COUGHING', 'SHORTNESS OF BREATH',\n",
       "       'SWALLOWING DIFFICULTY', 'CHEST PAIN'],\n",
       "      dtype='object')"
      ]
     },
     "execution_count": 45,
     "metadata": {},
     "output_type": "execute_result"
    }
   ],
   "source": [
    "q_resampled.columns"
   ]
  },
  {
   "cell_type": "code",
   "execution_count": 46,
   "id": "cbc60735",
   "metadata": {},
   "outputs": [
    {
     "data": {
      "text/plain": [
       "GENDER  AGE  SMOKING  YELLOW_FINGERS  ANXIETY  PEER_PRESSURE  CHRONIC DISEASE  FATIGUE   ALLERGY   WHEEZING  ALCOHOL CONSUMING  COUGHING  SHORTNESS OF BREATH  SWALLOWING DIFFICULTY  CHEST PAIN  LUNG_CANCER\n",
       "0       65   2        2               2        2              1                2         1         2         1                  2         2                    2                      1           1              2\n",
       "        56   1        1               1        2              2                2         1         1         2                  2         2                    2                      1           1              2\n",
       "        63   1        1               1        1              2                2         1         1         1                  1         2                    1                      1           0              2\n",
       "1       67   2        1               2        1              1                2         2         1         2                  2         2                    1                      2           1              2\n",
       "        62   1        1               1        2              1                2         2         2         2                  1         1                    2                      1           1              2\n",
       "                                                                                                                                                                                                                ..\n",
       "0       71   1        1               1        1              2                2         2         1         1                  2         2                    1                      2           1              1\n",
       "                      2               1        1              2                2         2         2         1                  2         2                    1                      1           1              1\n",
       "             2        1               1        1              2                2         1         1         1                  1         2                    1                      1           0              1\n",
       "                      2               2        1              1                1         2         1         2                  2         2                    1                      2           1              1\n",
       "1       79   2        1               1        1              2                2         2         1         2                  2         2                    2                      2           1              1\n",
       "Length: 276, dtype: int64"
      ]
     },
     "execution_count": 46,
     "metadata": {},
     "output_type": "execute_result"
    }
   ],
   "source": [
    "data.value_counts()"
   ]
  },
  {
   "cell_type": "markdown",
   "id": "f197b368",
   "metadata": {},
   "source": [
    "#### Observation: Here the target variable classes are balanced.\n"
   ]
  },
  {
   "cell_type": "code",
   "execution_count": 47,
   "id": "39ea8105",
   "metadata": {},
   "outputs": [
    {
     "data": {
      "image/png": "[encoded data removed]",
      "text/plain": [
       "<Figure size 1500x600 with 1 Axes>"
      ]
     },
     "metadata": {},
     "output_type": "display_data"
    }
   ],
   "source": [
    "sns.countplot(w_resampled ,label='counts',palette='rocket')\n",
    "plt.show()"
   ]
  },
  {
   "cell_type": "code",
   "execution_count": 48,
   "id": "5a62637d",
   "metadata": {},
   "outputs": [],
   "source": [
    "data.to_csv(\"final_eda.csv\",index=False)"
   ]
  },
  {
   "cell_type": "code",
   "execution_count": 49,
   "id": "bff24e0d",
   "metadata": {},
   "outputs": [
    {
     "data": {
      "text/plain": [
       "(540, 15)"
      ]
     },
     "execution_count": 49,
     "metadata": {},
     "output_type": "execute_result"
    }
   ],
   "source": [
    "q_resampled.shape"
   ]
  },
  {
   "cell_type": "code",
   "execution_count": 50,
   "id": "d0c0ff86",
   "metadata": {},
   "outputs": [
    {
     "data": {
      "text/plain": [
       "(540,)"
      ]
     },
     "execution_count": 50,
     "metadata": {},
     "output_type": "execute_result"
    }
   ],
   "source": [
    "w_resampled.shape"
   ]
  },
  {
   "cell_type": "code",
   "execution_count": null,
   "id": "af2f98b6",
   "metadata": {},
   "outputs": [],
   "source": []
  },
  {
   "cell_type": "markdown",
   "id": "8aa25d4d",
   "metadata": {},
   "source": [
    "## Classification"
   ]
  },
  {
   "cell_type": "code",
   "execution_count": 51,
   "id": "cd1da21e",
   "metadata": {},
   "outputs": [
    {
     "data": {
      "text/plain": [
       "Index(['GENDER', 'AGE', 'SMOKING', 'YELLOW_FINGERS', 'ANXIETY',\n",
       "       'PEER_PRESSURE', 'CHRONIC DISEASE', 'FATIGUE ', 'ALLERGY ', 'WHEEZING',\n",
       "       'ALCOHOL CONSUMING', 'COUGHING', 'SHORTNESS OF BREATH',\n",
       "       'SWALLOWING DIFFICULTY', 'CHEST PAIN', 'LUNG_CANCER'],\n",
       "      dtype='object')"
      ]
     },
     "execution_count": 51,
     "metadata": {},
     "output_type": "execute_result"
    }
   ],
   "source": [
    "data.columns"
   ]
  },
  {
   "cell_type": "code",
   "execution_count": 52,
   "id": "9c9e77ce",
   "metadata": {},
   "outputs": [],
   "source": [
    "X=data[['AGE', 'SMOKING', 'YELLOW_FINGERS', 'ANXIETY', 'PEER_PRESSURE',\n",
    "       'CHRONIC DISEASE', 'FATIGUE ', 'ALLERGY ', 'WHEEZING',\n",
    "       'ALCOHOL CONSUMING', 'COUGHING', 'SHORTNESS OF BREATH',\n",
    "       'SWALLOWING DIFFICULTY', 'CHEST PAIN','GENDER']]\n",
    "y=data['LUNG_CANCER']"
   ]
  },
  {
   "cell_type": "code",
   "execution_count": 53,
   "id": "4ade9ac7",
   "metadata": {},
   "outputs": [
    {
     "name": "stdout",
     "output_type": "stream",
     "text": [
      "(309, 15)\n",
      "(309,)\n"
     ]
    }
   ],
   "source": [
    "print(X.shape)\n",
    "print(y.shape)"
   ]
  },
  {
   "cell_type": "code",
   "execution_count": null,
   "id": "d8e14ac8",
   "metadata": {},
   "outputs": [],
   "source": []
  },
  {
   "cell_type": "markdown",
   "id": "2b52bab2",
   "metadata": {},
   "source": [
    "## standard scalar"
   ]
  },
  {
   "cell_type": "code",
   "execution_count": 54,
   "id": "78fb8fe5",
   "metadata": {},
   "outputs": [],
   "source": [
    "#from sklearn.preprocessing import StandardScaler\n",
    "\n",
    "#scale=StandardScaler()\n",
    "#X_scale=scale.fit_transform(X)\n",
    "#print(X_scale)\n",
    "#print(type(scale))\n",
    "#print(X_scale.shape)"
   ]
  },
  {
   "cell_type": "markdown",
   "id": "99c71152",
   "metadata": {},
   "source": [
    "#### Split Into Train And Test"
   ]
  },
  {
   "cell_type": "code",
   "execution_count": 55,
   "id": "3edac198",
   "metadata": {},
   "outputs": [],
   "source": [
    "from sklearn.model_selection import train_test_split\n",
    "\n",
    "X_train,X_test,y_train,y_test=train_test_split(q_resampled , w_resampled ,test_size=0.2,random_state=1)\n"
   ]
  },
  {
   "cell_type": "code",
   "execution_count": 56,
   "id": "da0f3fa0",
   "metadata": {},
   "outputs": [
    {
     "name": "stdout",
     "output_type": "stream",
     "text": [
      "(432, 15)\n",
      "(432,)\n",
      "(108, 15)\n",
      "(108,)\n"
     ]
    }
   ],
   "source": [
    "print(X_train.shape)\n",
    "print(y_train.shape)\n",
    "\n",
    "print(X_test.shape)\n",
    "print(y_test.shape)"
   ]
  },
  {
   "cell_type": "code",
   "execution_count": 57,
   "id": "5a9f1a28",
   "metadata": {},
   "outputs": [
    {
     "data": {
      "text/html": [
       "<div>\n",
       "<style scoped>\n",
       "    .dataframe tbody tr th:only-of-type {\n",
       "        vertical-align: middle;\n",
       "    }\n",
       "\n",
       "    .dataframe tbody tr th {\n",
       "        vertical-align: top;\n",
       "    }\n",
       "\n",
       "    .dataframe thead th {\n",
       "        text-align: right;\n",
       "    }\n",
       "</style>\n",
       "<table border=\"1\" class=\"dataframe\">\n",
       "  <thead>\n",
       "    <tr style=\"text-align: right;\">\n",
       "      <th></th>\n",
       "      <th>GENDER</th>\n",
       "      <th>AGE</th>\n",
       "      <th>SMOKING</th>\n",
       "      <th>YELLOW_FINGERS</th>\n",
       "      <th>ANXIETY</th>\n",
       "      <th>PEER_PRESSURE</th>\n",
       "      <th>CHRONIC DISEASE</th>\n",
       "      <th>FATIGUE</th>\n",
       "      <th>ALLERGY</th>\n",
       "      <th>WHEEZING</th>\n",
       "      <th>ALCOHOL CONSUMING</th>\n",
       "      <th>COUGHING</th>\n",
       "      <th>SHORTNESS OF BREATH</th>\n",
       "      <th>SWALLOWING DIFFICULTY</th>\n",
       "      <th>CHEST PAIN</th>\n",
       "    </tr>\n",
       "  </thead>\n",
       "  <tbody>\n",
       "    <tr>\n",
       "      <th>16</th>\n",
       "      <td>1</td>\n",
       "      <td>75</td>\n",
       "      <td>2</td>\n",
       "      <td>1</td>\n",
       "      <td>1</td>\n",
       "      <td>1</td>\n",
       "      <td>2</td>\n",
       "      <td>1</td>\n",
       "      <td>2</td>\n",
       "      <td>2</td>\n",
       "      <td>2</td>\n",
       "      <td>2</td>\n",
       "      <td>2</td>\n",
       "      <td>1</td>\n",
       "      <td>2</td>\n",
       "    </tr>\n",
       "    <tr>\n",
       "      <th>85</th>\n",
       "      <td>1</td>\n",
       "      <td>60</td>\n",
       "      <td>1</td>\n",
       "      <td>2</td>\n",
       "      <td>2</td>\n",
       "      <td>1</td>\n",
       "      <td>1</td>\n",
       "      <td>1</td>\n",
       "      <td>1</td>\n",
       "      <td>2</td>\n",
       "      <td>2</td>\n",
       "      <td>2</td>\n",
       "      <td>2</td>\n",
       "      <td>2</td>\n",
       "      <td>1</td>\n",
       "    </tr>\n",
       "    <tr>\n",
       "      <th>517</th>\n",
       "      <td>1</td>\n",
       "      <td>63</td>\n",
       "      <td>2</td>\n",
       "      <td>1</td>\n",
       "      <td>1</td>\n",
       "      <td>1</td>\n",
       "      <td>1</td>\n",
       "      <td>1</td>\n",
       "      <td>1</td>\n",
       "      <td>1</td>\n",
       "      <td>2</td>\n",
       "      <td>1</td>\n",
       "      <td>1</td>\n",
       "      <td>1</td>\n",
       "      <td>2</td>\n",
       "    </tr>\n",
       "  </tbody>\n",
       "</table>\n",
       "</div>"
      ],
      "text/plain": [
       "     GENDER  AGE  SMOKING  YELLOW_FINGERS  ANXIETY  PEER_PRESSURE  \\\n",
       "16        1   75        2               1        1              1   \n",
       "85        1   60        1               2        2              1   \n",
       "517       1   63        2               1        1              1   \n",
       "\n",
       "     CHRONIC DISEASE  FATIGUE   ALLERGY   WHEEZING  ALCOHOL CONSUMING  \\\n",
       "16                 2         1         2         2                  2   \n",
       "85                 1         1         1         2                  2   \n",
       "517                1         1         1         1                  2   \n",
       "\n",
       "     COUGHING  SHORTNESS OF BREATH  SWALLOWING DIFFICULTY  CHEST PAIN  \n",
       "16          2                    2                      1           2  \n",
       "85          2                    2                      2           1  \n",
       "517         1                    1                      1           2  "
      ]
     },
     "execution_count": 57,
     "metadata": {},
     "output_type": "execute_result"
    }
   ],
   "source": [
    "X_train.head(3)"
   ]
  },
  {
   "cell_type": "code",
   "execution_count": 58,
   "id": "d2815389",
   "metadata": {},
   "outputs": [
    {
     "data": {
      "text/html": [
       "<div>\n",
       "<style scoped>\n",
       "    .dataframe tbody tr th:only-of-type {\n",
       "        vertical-align: middle;\n",
       "    }\n",
       "\n",
       "    .dataframe tbody tr th {\n",
       "        vertical-align: top;\n",
       "    }\n",
       "\n",
       "    .dataframe thead th {\n",
       "        text-align: right;\n",
       "    }\n",
       "</style>\n",
       "<table border=\"1\" class=\"dataframe\">\n",
       "  <thead>\n",
       "    <tr style=\"text-align: right;\">\n",
       "      <th></th>\n",
       "      <th>GENDER</th>\n",
       "      <th>AGE</th>\n",
       "      <th>SMOKING</th>\n",
       "      <th>YELLOW_FINGERS</th>\n",
       "      <th>ANXIETY</th>\n",
       "      <th>PEER_PRESSURE</th>\n",
       "      <th>CHRONIC DISEASE</th>\n",
       "      <th>FATIGUE</th>\n",
       "      <th>ALLERGY</th>\n",
       "      <th>WHEEZING</th>\n",
       "      <th>ALCOHOL CONSUMING</th>\n",
       "      <th>COUGHING</th>\n",
       "      <th>SHORTNESS OF BREATH</th>\n",
       "      <th>SWALLOWING DIFFICULTY</th>\n",
       "      <th>CHEST PAIN</th>\n",
       "    </tr>\n",
       "  </thead>\n",
       "  <tbody>\n",
       "    <tr>\n",
       "      <th>65</th>\n",
       "      <td>0</td>\n",
       "      <td>71</td>\n",
       "      <td>2</td>\n",
       "      <td>2</td>\n",
       "      <td>2</td>\n",
       "      <td>2</td>\n",
       "      <td>2</td>\n",
       "      <td>2</td>\n",
       "      <td>1</td>\n",
       "      <td>2</td>\n",
       "      <td>1</td>\n",
       "      <td>2</td>\n",
       "      <td>1</td>\n",
       "      <td>2</td>\n",
       "      <td>2</td>\n",
       "    </tr>\n",
       "    <tr>\n",
       "      <th>402</th>\n",
       "      <td>0</td>\n",
       "      <td>63</td>\n",
       "      <td>2</td>\n",
       "      <td>1</td>\n",
       "      <td>1</td>\n",
       "      <td>2</td>\n",
       "      <td>1</td>\n",
       "      <td>1</td>\n",
       "      <td>1</td>\n",
       "      <td>1</td>\n",
       "      <td>1</td>\n",
       "      <td>1</td>\n",
       "      <td>1</td>\n",
       "      <td>1</td>\n",
       "      <td>1</td>\n",
       "    </tr>\n",
       "    <tr>\n",
       "      <th>445</th>\n",
       "      <td>0</td>\n",
       "      <td>63</td>\n",
       "      <td>1</td>\n",
       "      <td>1</td>\n",
       "      <td>1</td>\n",
       "      <td>1</td>\n",
       "      <td>1</td>\n",
       "      <td>1</td>\n",
       "      <td>1</td>\n",
       "      <td>1</td>\n",
       "      <td>1</td>\n",
       "      <td>1</td>\n",
       "      <td>2</td>\n",
       "      <td>1</td>\n",
       "      <td>1</td>\n",
       "    </tr>\n",
       "  </tbody>\n",
       "</table>\n",
       "</div>"
      ],
      "text/plain": [
       "     GENDER  AGE  SMOKING  YELLOW_FINGERS  ANXIETY  PEER_PRESSURE  \\\n",
       "65        0   71        2               2        2              2   \n",
       "402       0   63        2               1        1              2   \n",
       "445       0   63        1               1        1              1   \n",
       "\n",
       "     CHRONIC DISEASE  FATIGUE   ALLERGY   WHEEZING  ALCOHOL CONSUMING  \\\n",
       "65                 2         2         1         2                  1   \n",
       "402                1         1         1         1                  1   \n",
       "445                1         1         1         1                  1   \n",
       "\n",
       "     COUGHING  SHORTNESS OF BREATH  SWALLOWING DIFFICULTY  CHEST PAIN  \n",
       "65          2                    1                      2           2  \n",
       "402         1                    1                      1           1  \n",
       "445         1                    2                      1           1  "
      ]
     },
     "execution_count": 58,
     "metadata": {},
     "output_type": "execute_result"
    }
   ],
   "source": [
    "X_test.head(3)"
   ]
  },
  {
   "cell_type": "code",
   "execution_count": 59,
   "id": "ad1cec73",
   "metadata": {},
   "outputs": [
    {
     "data": {
      "text/plain": [
       "16     1\n",
       "85     1\n",
       "517    0\n",
       "Name: LUNG_CANCER, dtype: int64"
      ]
     },
     "execution_count": 59,
     "metadata": {},
     "output_type": "execute_result"
    }
   ],
   "source": [
    "y_train.head(3)"
   ]
  },
  {
   "cell_type": "code",
   "execution_count": 60,
   "id": "376f73ec",
   "metadata": {},
   "outputs": [
    {
     "data": {
      "text/plain": [
       "65     1\n",
       "402    0\n",
       "445    0\n",
       "Name: LUNG_CANCER, dtype: int64"
      ]
     },
     "execution_count": 60,
     "metadata": {},
     "output_type": "execute_result"
    }
   ],
   "source": [
    "y_test.head(3)"
   ]
  },
  {
   "cell_type": "markdown",
   "id": "1cdb7543",
   "metadata": {},
   "source": [
    "## Logistic Regression"
   ]
  },
  {
   "cell_type": "code",
   "execution_count": 61,
   "id": "4e47ea56",
   "metadata": {},
   "outputs": [],
   "source": [
    "#logistic regression-binary data\n",
    "from sklearn.linear_model import LogisticRegression\n",
    "\n",
    "lr=LogisticRegression()\n",
    "lr.fit(X_train,y_train)\n",
    "y_pred=lr.predict(X_test)"
   ]
  },
  {
   "cell_type": "code",
   "execution_count": 62,
   "id": "79657d8f",
   "metadata": {},
   "outputs": [
    {
     "name": "stdout",
     "output_type": "stream",
     "text": [
      "LR: 97.22222222222221\n"
     ]
    }
   ],
   "source": [
    "from sklearn.metrics import accuracy_score\n",
    "print(\"LR:\",accuracy_score(y_test,y_pred)*100)"
   ]
  },
  {
   "cell_type": "code",
   "execution_count": 63,
   "id": "47b312a4",
   "metadata": {},
   "outputs": [
    {
     "name": "stdout",
     "output_type": "stream",
     "text": [
      "[[56  2]\n",
      " [ 1 49]]\n"
     ]
    }
   ],
   "source": [
    "#confusion matrix which will tell where the machine gone wrong\n",
    "from sklearn.metrics import confusion_matrix\n",
    "cm=confusion_matrix(y_test,y_pred)\n",
    "print(cm)"
   ]
  },
  {
   "cell_type": "code",
   "execution_count": 64,
   "id": "c7bd8718",
   "metadata": {},
   "outputs": [
    {
     "name": "stdout",
     "output_type": "stream",
     "text": [
      "              precision    recall  f1-score   support\n",
      "\n",
      "           0       0.98      0.97      0.97        58\n",
      "           1       0.96      0.98      0.97        50\n",
      "\n",
      "    accuracy                           0.97       108\n",
      "   macro avg       0.97      0.97      0.97       108\n",
      "weighted avg       0.97      0.97      0.97       108\n",
      "\n"
     ]
    }
   ],
   "source": [
    "from sklearn.metrics import classification_report\n",
    "print(classification_report(y_test,y_pred))"
   ]
  },
  {
   "cell_type": "code",
   "execution_count": 65,
   "id": "3916f57a",
   "metadata": {},
   "outputs": [
    {
     "data": {
      "text/plain": [
       "<sklearn.metrics._plot.confusion_matrix.ConfusionMatrixDisplay at 0x1cc01cb9b50>"
      ]
     },
     "execution_count": 65,
     "metadata": {},
     "output_type": "execute_result"
    },
    {
     "data": {
      "image/png": "[encoded data removed]",
      "text/plain": [
       "<Figure size 1500x600 with 2 Axes>"
      ]
     },
     "metadata": {},
     "output_type": "display_data"
    }
   ],
   "source": [
    "from sklearn.metrics import ConfusionMatrixDisplay\n",
    "\n",
    "cmd=ConfusionMatrixDisplay(cm,display_labels=lr.classes_)\n",
    "cmd.plot()\n",
    "#true_label-y_test,predicted label-y_pred"
   ]
  },
  {
   "cell_type": "code",
   "execution_count": 66,
   "id": "07112f72",
   "metadata": {},
   "outputs": [
    {
     "ename": "KeyboardInterrupt",
     "evalue": "Interrupted by user",
     "output_type": "error",
     "traceback": [
      "\u001b[1;31m---------------------------------------------------------------------------\u001b[0m",
      "\u001b[1;31mKeyboardInterrupt\u001b[0m                         Traceback (most recent call last)",
      "\u001b[1;32m~\\AppData\\Local\\Temp\\ipykernel_63520\\965546421.py\u001b[0m in \u001b[0;36m<module>\u001b[1;34m\u001b[0m\n\u001b[1;32m----> 1\u001b[1;33m \u001b[0mTP\u001b[0m\u001b[1;33m=\u001b[0m\u001b[0mfloat\u001b[0m\u001b[1;33m(\u001b[0m\u001b[0minput\u001b[0m\u001b[1;33m(\u001b[0m\u001b[1;34m\"TP:=\"\u001b[0m\u001b[1;33m)\u001b[0m\u001b[1;33m)\u001b[0m\u001b[1;33m\u001b[0m\u001b[1;33m\u001b[0m\u001b[0m\n\u001b[0m\u001b[0;32m      2\u001b[0m \u001b[0mFP\u001b[0m\u001b[1;33m=\u001b[0m\u001b[0mfloat\u001b[0m\u001b[1;33m(\u001b[0m\u001b[0minput\u001b[0m\u001b[1;33m(\u001b[0m\u001b[1;34m\"FP:=\"\u001b[0m\u001b[1;33m)\u001b[0m\u001b[1;33m)\u001b[0m\u001b[1;33m\u001b[0m\u001b[1;33m\u001b[0m\u001b[0m\n\u001b[0;32m      3\u001b[0m \u001b[0mFN\u001b[0m\u001b[1;33m=\u001b[0m\u001b[0mfloat\u001b[0m\u001b[1;33m(\u001b[0m\u001b[0minput\u001b[0m\u001b[1;33m(\u001b[0m\u001b[1;34m\"FN:=\"\u001b[0m\u001b[1;33m)\u001b[0m\u001b[1;33m)\u001b[0m\u001b[1;33m\u001b[0m\u001b[1;33m\u001b[0m\u001b[0m\n\u001b[0;32m      4\u001b[0m \u001b[0mTN\u001b[0m\u001b[1;33m=\u001b[0m\u001b[0mfloat\u001b[0m\u001b[1;33m(\u001b[0m\u001b[0minput\u001b[0m\u001b[1;33m(\u001b[0m\u001b[1;34m\"TN:=\"\u001b[0m\u001b[1;33m)\u001b[0m\u001b[1;33m)\u001b[0m\u001b[1;33m\u001b[0m\u001b[1;33m\u001b[0m\u001b[0m\n\u001b[0;32m      5\u001b[0m \u001b[0mACC\u001b[0m\u001b[1;33m=\u001b[0m\u001b[1;33m(\u001b[0m\u001b[0mTP\u001b[0m\u001b[1;33m+\u001b[0m\u001b[0mTN\u001b[0m\u001b[1;33m)\u001b[0m\u001b[1;33m/\u001b[0m\u001b[1;33m(\u001b[0m\u001b[0mTP\u001b[0m\u001b[1;33m+\u001b[0m\u001b[0mFP\u001b[0m\u001b[1;33m+\u001b[0m\u001b[0mFN\u001b[0m\u001b[1;33m+\u001b[0m\u001b[0mTN\u001b[0m\u001b[1;33m)\u001b[0m\u001b[1;33m\u001b[0m\u001b[1;33m\u001b[0m\u001b[0m\n",
      "\u001b[1;32m~\\anaconda3\\lib\\site-packages\\ipykernel\\kernelbase.py\u001b[0m in \u001b[0;36mraw_input\u001b[1;34m(self, prompt)\u001b[0m\n\u001b[0;32m   1175\u001b[0m                 \u001b[1;34m\"raw_input was called, but this frontend does not support input requests.\"\u001b[0m\u001b[1;33m\u001b[0m\u001b[1;33m\u001b[0m\u001b[0m\n\u001b[0;32m   1176\u001b[0m             )\n\u001b[1;32m-> 1177\u001b[1;33m         return self._input_request(\n\u001b[0m\u001b[0;32m   1178\u001b[0m             \u001b[0mstr\u001b[0m\u001b[1;33m(\u001b[0m\u001b[0mprompt\u001b[0m\u001b[1;33m)\u001b[0m\u001b[1;33m,\u001b[0m\u001b[1;33m\u001b[0m\u001b[1;33m\u001b[0m\u001b[0m\n\u001b[0;32m   1179\u001b[0m             \u001b[0mself\u001b[0m\u001b[1;33m.\u001b[0m\u001b[0m_parent_ident\u001b[0m\u001b[1;33m[\u001b[0m\u001b[1;34m\"shell\"\u001b[0m\u001b[1;33m]\u001b[0m\u001b[1;33m,\u001b[0m\u001b[1;33m\u001b[0m\u001b[1;33m\u001b[0m\u001b[0m\n",
      "\u001b[1;32m~\\anaconda3\\lib\\site-packages\\ipykernel\\kernelbase.py\u001b[0m in \u001b[0;36m_input_request\u001b[1;34m(self, prompt, ident, parent, password)\u001b[0m\n\u001b[0;32m   1217\u001b[0m             \u001b[1;32mexcept\u001b[0m \u001b[0mKeyboardInterrupt\u001b[0m\u001b[1;33m:\u001b[0m\u001b[1;33m\u001b[0m\u001b[1;33m\u001b[0m\u001b[0m\n\u001b[0;32m   1218\u001b[0m                 \u001b[1;31m# re-raise KeyboardInterrupt, to truncate traceback\u001b[0m\u001b[1;33m\u001b[0m\u001b[1;33m\u001b[0m\u001b[0m\n\u001b[1;32m-> 1219\u001b[1;33m                 \u001b[1;32mraise\u001b[0m \u001b[0mKeyboardInterrupt\u001b[0m\u001b[1;33m(\u001b[0m\u001b[1;34m\"Interrupted by user\"\u001b[0m\u001b[1;33m)\u001b[0m \u001b[1;32mfrom\u001b[0m \u001b[1;32mNone\u001b[0m\u001b[1;33m\u001b[0m\u001b[1;33m\u001b[0m\u001b[0m\n\u001b[0m\u001b[0;32m   1220\u001b[0m             \u001b[1;32mexcept\u001b[0m \u001b[0mException\u001b[0m\u001b[1;33m:\u001b[0m\u001b[1;33m\u001b[0m\u001b[1;33m\u001b[0m\u001b[0m\n\u001b[0;32m   1221\u001b[0m                 \u001b[0mself\u001b[0m\u001b[1;33m.\u001b[0m\u001b[0mlog\u001b[0m\u001b[1;33m.\u001b[0m\u001b[0mwarning\u001b[0m\u001b[1;33m(\u001b[0m\u001b[1;34m\"Invalid Message:\"\u001b[0m\u001b[1;33m,\u001b[0m \u001b[0mexc_info\u001b[0m\u001b[1;33m=\u001b[0m\u001b[1;32mTrue\u001b[0m\u001b[1;33m)\u001b[0m\u001b[1;33m\u001b[0m\u001b[1;33m\u001b[0m\u001b[0m\n",
      "\u001b[1;31mKeyboardInterrupt\u001b[0m: Interrupted by user"
     ]
    }
   ],
   "source": [
    "TP=float(input(\"TP:=\"))\n",
    "FP=float(input(\"FP:=\"))\n",
    "FN=float(input(\"FN:=\"))\n",
    "TN=float(input(\"TN:=\"))\n",
    "ACC=(TP+TN)/(TP+FP+FN+TN)\n",
    "SEN=TP/(TP+FN)\n",
    "SPEC=TN/(TN+FP)\n",
    "prec=TP/(TP+FP)\n",
    "fm=TP/(TP+((FP+FN)/2))\n",
    "print(\"accuracy=\",ACC,\"\\nsensitivity=\",SEN,\"\\nspecificity=\",SPEC)\n",
    "print(\"prescion=\",prec)\n",
    "print(\"fmeasure=\",fm)"
   ]
  },
  {
   "cell_type": "markdown",
   "id": "5b28b3a9",
   "metadata": {},
   "source": [
    "## KNN Classification"
   ]
  },
  {
   "cell_type": "code",
   "execution_count": null,
   "id": "ec8c7954",
   "metadata": {},
   "outputs": [],
   "source": [
    "from sklearn.neighbors import KNeighborsClassifier\n",
    "\n",
    "knn=KNeighborsClassifier(n_neighbors=5)\n",
    "knn.fit(X_train,y_train)\n",
    "\n",
    "y_pred=knn.predict(X_test)\n",
    "\n",
    "print(accuracy_score(y_test,y_pred)*100)"
   ]
  },
  {
   "cell_type": "code",
   "execution_count": null,
   "id": "a4dec3e8",
   "metadata": {},
   "outputs": [],
   "source": [
    "#confusion matrix which will tell where the machine gone wrong\n",
    "from sklearn.metrics import confusion_matrix\n",
    "cm=confusion_matrix(y_test,y_pred)\n",
    "print(cm)"
   ]
  },
  {
   "cell_type": "code",
   "execution_count": null,
   "id": "36f317af",
   "metadata": {},
   "outputs": [],
   "source": [
    "from sklearn.metrics import ConfusionMatrixDisplay\n",
    "\n",
    "cmd=ConfusionMatrixDisplay(cm,display_labels=knn.classes_)\n",
    "cmd.plot()"
   ]
  },
  {
   "cell_type": "code",
   "execution_count": null,
   "id": "be5df920",
   "metadata": {},
   "outputs": [],
   "source": [
    "TP=float(input(\"TP:=\"))\n",
    "FP=float(input(\"FP:=\"))\n",
    "FN=float(input(\"FN:=\"))\n",
    "TN=float(input(\"TN:=\"))\n",
    "ACC=(TP+TN)/(TP+FP+FN+TN)\n",
    "SEN=TP/(TP+FN)\n",
    "SPEC=TN/(TN+FP)\n",
    "prec=TP/(TP+FP)\n",
    "fm=TP/(TP+((FP+FN)/2))\n",
    "print(\"accuracy=\",ACC,\"\\nsensitivity=\",SEN,\"\\nspecificity=\",SPEC)\n",
    "print(\"prescion=\",prec)\n",
    "print(\"fmeasure=\",fm)"
   ]
  },
  {
   "cell_type": "markdown",
   "id": "f5c115cb",
   "metadata": {},
   "source": [
    "## GuassianNB Classifier"
   ]
  },
  {
   "cell_type": "code",
   "execution_count": null,
   "id": "1494d4ba",
   "metadata": {},
   "outputs": [],
   "source": [
    "#guassianNB\n",
    "from sklearn.naive_bayes import GaussianNB\n",
    "gnb=GaussianNB()\n",
    "gnb.fit(X_train,y_train)\n",
    "y_pred=gnb.predict(X_test)\n",
    "print(accuracy_score(y_test,y_pred)*100)"
   ]
  },
  {
   "cell_type": "code",
   "execution_count": null,
   "id": "d3d98510",
   "metadata": {},
   "outputs": [],
   "source": [
    "from sklearn.metrics import confusion_matrix\n",
    "from sklearn.metrics import ConfusionMatrixDisplay\n",
    "cm=confusion_matrix(y_test,y_pred)\n",
    "print(cm)"
   ]
  },
  {
   "cell_type": "code",
   "execution_count": null,
   "id": "970c09a7",
   "metadata": {},
   "outputs": [],
   "source": [
    "cmd=ConfusionMatrixDisplay(cm,display_labels=gnb.classes_)\n",
    "cmd.plot()"
   ]
  },
  {
   "cell_type": "markdown",
   "id": "c0cd3e95",
   "metadata": {},
   "source": [
    "## Support Vector Classifier"
   ]
  },
  {
   "cell_type": "code",
   "execution_count": null,
   "id": "3f7bc02b",
   "metadata": {},
   "outputs": [],
   "source": [
    "#support vector classifier\n",
    "from sklearn.svm import SVC\n",
    "sv=SVC(gamma='auto')\n",
    "sv.fit(X_train,y_train)\n",
    "y_pred=sv.predict(X_test)\n",
    "print(accuracy_score(y_test,y_pred)*100)"
   ]
  },
  {
   "cell_type": "code",
   "execution_count": null,
   "id": "e7b4d995",
   "metadata": {},
   "outputs": [],
   "source": [
    "from sklearn.metrics import confusion_matrix\n",
    "cm=confusion_matrix(y_test,y_pred)\n",
    "print(cm)"
   ]
  },
  {
   "cell_type": "code",
   "execution_count": null,
   "id": "9b51fd99",
   "metadata": {},
   "outputs": [],
   "source": [
    "from sklearn.metrics import ConfusionMatrixDisplay\n",
    "cmd=ConfusionMatrixDisplay(cm,display_labels=sv.classes_)\n",
    "cmd.plot()"
   ]
  },
  {
   "cell_type": "code",
   "execution_count": null,
   "id": "9975ffe5",
   "metadata": {},
   "outputs": [],
   "source": [
    "TP=float(input(\"TP:=\"))\n",
    "FP=float(input(\"FP:=\"))\n",
    "FN=float(input(\"FN:=\"))\n",
    "TN=float(input(\"TN:=\"))\n",
    "ACC=(TP+TN)/(TP+FP+FN+TN)\n",
    "SEN=TP/(TP+FN)\n",
    "SPEC=TN/(TN+FP)\n",
    "prec=TP/(TP+FP)\n",
    "fm=TP/(TP+((FP+FN)/2))\n",
    "print(\"accuracy=\",ACC,\"\\nsensitivity=\",SEN,\"\\nspecificity=\",SPEC)\n",
    "print(\"prescion=\",prec)\n",
    "print(\"fmeasure=\",fm)"
   ]
  },
  {
   "cell_type": "markdown",
   "id": "3c19d74f",
   "metadata": {},
   "source": [
    "## Decision Tree Classifier"
   ]
  },
  {
   "cell_type": "code",
   "execution_count": null,
   "id": "10081313",
   "metadata": {},
   "outputs": [],
   "source": [
    "#decision tree\n",
    "from sklearn.tree import DecisionTreeClassifier\n",
    "dt=DecisionTreeClassifier()\n",
    "dt.fit(X_train,y_train)\n",
    "y_pred=dt.predict(X_test)\n",
    "print(accuracy_score(y_test,y_pred)*100)"
   ]
  },
  {
   "cell_type": "code",
   "execution_count": null,
   "id": "6445bf0d",
   "metadata": {},
   "outputs": [],
   "source": [
    "from sklearn.metrics import confusion_matrix\n",
    "cm=confusion_matrix(y_test,y_pred)\n",
    "print(cm)"
   ]
  },
  {
   "cell_type": "code",
   "execution_count": null,
   "id": "a47cac97",
   "metadata": {},
   "outputs": [],
   "source": [
    "from sklearn.metrics import ConfusionMatrixDisplay\n",
    "cmd=ConfusionMatrixDisplay(cm,display_labels=dt.classes_)\n",
    "cmd.plot()"
   ]
  },
  {
   "cell_type": "code",
   "execution_count": null,
   "id": "a0ce4255",
   "metadata": {},
   "outputs": [],
   "source": [
    "TP=float(input(\"TP:=\"))\n",
    "FP=float(input(\"FP:=\"))\n",
    "FN=float(input(\"FN:=\"))\n",
    "TN=float(input(\"TN:=\"))\n",
    "ACC=(TP+TN)/(TP+FP+FN+TN)\n",
    "SEN=TP/(TP+FN)\n",
    "SPEC=TN/(TN+FP)\n",
    "prec=TP/(TP+FP)\n",
    "fm=TP/(TP+((FP+FN)/2))\n",
    "print(\"accuracy=\",ACC,\"\\nsensitivity=\",SEN,\"\\nspecificity=\",SPEC)\n",
    "print(\"prescion=\",prec)\n",
    "print(\"fmeasure=\",fm)"
   ]
  },
  {
   "cell_type": "markdown",
   "id": "2570a2a5",
   "metadata": {},
   "source": [
    "## Random Forest Classifier"
   ]
  },
  {
   "cell_type": "code",
   "execution_count": null,
   "id": "83181d9d",
   "metadata": {},
   "outputs": [],
   "source": [
    "from sklearn.ensemble import RandomForestClassifier\n",
    "\n",
    "rfc=RandomForestClassifier()\n",
    "rfc.fit(X_train,y_train)\n",
    "y_pred=rfc.predict(X_test)\n",
    "print(accuracy_score(y_test,y_pred)*100)"
   ]
  },
  {
   "cell_type": "code",
   "execution_count": null,
   "id": "8fe48636",
   "metadata": {},
   "outputs": [],
   "source": [
    "from sklearn.metrics import confusion_matrix\n",
    "cm=confusion_matrix(y_test,y_pred)\n",
    "print(cm)"
   ]
  },
  {
   "cell_type": "code",
   "execution_count": null,
   "id": "fb1a9849",
   "metadata": {},
   "outputs": [],
   "source": [
    "cm=confusion_matrix(y_test,y_pred)\n",
    "cmd=ConfusionMatrixDisplay(cm,display_labels=rfc.classes_)\n",
    "cmd.plot()"
   ]
  },
  {
   "cell_type": "code",
   "execution_count": null,
   "id": "176969a5",
   "metadata": {},
   "outputs": [],
   "source": [
    "TP=float(input(\"TP:=\"))\n",
    "FP=float(input(\"FP:=\"))\n",
    "FN=float(input(\"FN:=\"))\n",
    "TN=float(input(\"TN:=\"))\n",
    "ACC=(TP+TN)/(TP+FP+FN+TN)\n",
    "SEN=TP/(TP+FN)\n",
    "SPEC=TN/(TN+FP)\n",
    "prec=TP/(TP+FP)\n",
    "fm=TP/(TP+((FP+FN)/2))\n",
    "print(\"accuracy=\",ACC,\"\\nsensitivity=\",SEN,\"\\nspecificity=\",SPEC)\n",
    "print(\"prescion=\",prec)\n",
    "print(\"fmeasure=\",fm)"
   ]
  },
  {
   "cell_type": "code",
   "execution_count": null,
   "id": "ef81f427",
   "metadata": {},
   "outputs": [],
   "source": [
    "from sklearn.metrics import roc_curve, roc_auc_score"
   ]
  },
  {
   "cell_type": "code",
   "execution_count": null,
   "id": "3083107c",
   "metadata": {},
   "outputs": [],
   "source": [
    "from sklearn import metrics\n",
    "\n",
    "lr= LogisticRegression()\n",
    "lr.fit(X_train,y_train)\n",
    "y_pred=lr.predict(X_test)\n",
    "fpr,tpr,_ = metrics.roc_curve(y_test, y_pred)\n",
    "auc = round(metrics.roc_auc_score(y_test, y_pred), 4)\n",
    "plt.plot(fpr,tpr,label=\"Logistic Regression, AUC=\"+str(auc))\n",
    "\n",
    "knn=KNeighborsClassifier(n_neighbors=5)\n",
    "knn.fit(X_train,y_train)\n",
    "y_pred=knn.predict(X_test)\n",
    "fpr, tpr, _ = metrics.roc_curve(y_test, y_pred)\n",
    "auc = round(metrics.roc_auc_score(y_test, y_pred), 4)\n",
    "plt.plot(fpr,tpr,label=\"KNN, AUC=\"+str(auc))\n",
    "\n",
    "sv=SVC(gamma='auto')\n",
    "sv.fit(X_train,y_train)\n",
    "y_pred=sv.predict(X_test)\n",
    "fpr, tpr, _ = metrics.roc_curve(y_test, y_pred)\n",
    "auc = round(metrics.roc_auc_score(y_test, y_pred), 4)\n",
    "plt.plot(fpr,tpr,label=\"svc, AUC=\"+str(auc))\n",
    "\n",
    "dtree=DecisionTreeClassifier()\n",
    "dtree.fit(X_train.values,y_train.values)\n",
    "y_pred=dtree.predict(X_test.values)\n",
    "fpr, tpr, _ = metrics.roc_curve(y_test, y_pred)\n",
    "auc = round(metrics.roc_auc_score(y_test, y_pred), 4)\n",
    "plt.plot(fpr,tpr,label=\"dtree, AUC=\"+str(auc))\n",
    "\n",
    "rfc=RandomForestClassifier()\n",
    "rfc.fit(X_train,y_train)\n",
    "y_pred=rfc.predict(X_test)\n",
    "fpr, tpr, _ = metrics.roc_curve(y_test, y_pred)\n",
    "auc = round(metrics.roc_auc_score(y_test, y_pred), 4)\n",
    "plt.plot(fpr,tpr,label=\"dtree, AUC=\"+str(auc))\n",
    "\n",
    "\n",
    "\n",
    "plt.legend()"
   ]
  },
  {
   "cell_type": "code",
   "execution_count": null,
   "id": "af4b9c0f",
   "metadata": {},
   "outputs": [],
   "source": [
    "TP=float(input(\"TP:=\"))\n",
    "FP=float(input(\"FP:=\"))\n",
    "FN=float(input(\"FN:=\"))\n",
    "TN=float(input(\"TN:=\"))\n",
    "ACC=(TP+TN)/(TP+FP+FN+TN)\n",
    "SEN=TP/(TP+FN)\n",
    "SPEC=TN/(TN+FP)\n",
    "prec=TP/(TP+FP)\n",
    "fm=TP/(TP+((FP+FN)/2))\n",
    "print(\"accuracy=\",ACC,\"\\nsensitivity=\",SEN,\"\\nspecificity=\",SPEC)\n",
    "print(\"prescion=\",prec)\n",
    "print(\"fmeasure=\",fm)"
   ]
  },
  {
   "cell_type": "code",
   "execution_count": null,
   "id": "0a000c81",
   "metadata": {},
   "outputs": [],
   "source": [
    "data.head(30)"
   ]
  },
  {
   "cell_type": "markdown",
   "id": "3a9fee54",
   "metadata": {},
   "source": [
    "### here we observe that random forest model has higest  accuracy(94.44) than other."
   ]
  },
  {
   "cell_type": "code",
   "execution_count": null,
   "id": "52182e29",
   "metadata": {},
   "outputs": [],
   "source": [
    "import pickle"
   ]
  },
  {
   "cell_type": "code",
   "execution_count": null,
   "id": "51fd11bf",
   "metadata": {},
   "outputs": [],
   "source": [
    "pickle.dump(lr,open('lungmodel.pkl','wb'))"
   ]
  },
  {
   "cell_type": "code",
   "execution_count": null,
   "id": "64bc45bb",
   "metadata": {
    "scrolled": false
   },
   "outputs": [],
   "source": [
    "print(X.head(5))\n",
    "print(y.head(5))"
   ]
  },
  {
   "cell_type": "code",
   "execution_count": null,
   "id": "034fad13",
   "metadata": {},
   "outputs": [],
   "source": [
    "import warnings\n",
    "warnings.filterwarnings('ignore')\n",
    "\n",
    "data=[0,68,2,1,2,1,1,2,1,1,1,1,1,1,1]\n",
    "model=pickle.load(open('lungmodel.pkl','rb')) #rb-read binary\n",
    "\n",
    "import numpy as np\n",
    "arr=np.array(data).reshape(1,-1)  #-1 means we don't know the exact col \n",
    "\n",
    "result=model.predict(arr)\n",
    "print(result[0])"
   ]
  },
  {
   "cell_type": "code",
   "execution_count": null,
   "id": "e0547773",
   "metadata": {},
   "outputs": [],
   "source": []
  },
  {
   "cell_type": "code",
   "execution_count": null,
   "id": "254e3b26",
   "metadata": {},
   "outputs": [],
   "source": []
  },
  {
   "cell_type": "code",
   "execution_count": null,
   "id": "8a8c16f7",
   "metadata": {},
   "outputs": [],
   "source": []
  },
  {
   "cell_type": "code",
   "execution_count": null,
   "id": "627fbab8",
   "metadata": {},
   "outputs": [],
   "source": []
  },
  {
   "cell_type": "code",
   "execution_count": null,
   "id": "96956c8a",
   "metadata": {},
   "outputs": [],
   "source": []
  },
  {
   "cell_type": "code",
   "execution_count": null,
   "id": "2051c5dc",
   "metadata": {},
   "outputs": [],
   "source": []
  }
 ],
 "metadata": {
  "kernelspec": {
   "display_name": "Python 3 (ipykernel)",
   "language": "python",
   "name": "python3"
  },
  "language_info": {
   "codemirror_mode": {
    "name": "ipython",
    "version": 3
   },
   "file_extension": ".py",
   "mimetype": "text/x-python",
   "name": "python",
   "nbconvert_exporter": "python",
   "pygments_lexer": "ipython3",
   "version": "3.9.12"
  }
 },
 "nbformat": 4,
 "nbformat_minor": 5
}
